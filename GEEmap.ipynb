{
  "nbformat": 4,
  "nbformat_minor": 0,
  "metadata": {
    "colab": {
      "provenance": [],
      "collapsed_sections": [
        "1Vn7WSZMq9lq"
      ],
      "authorship_tag": "ABX9TyMQFghQn8GLIkGt2Ambpwmo",
      "include_colab_link": true
    },
    "kernelspec": {
      "name": "python3",
      "display_name": "Python 3"
    },
    "language_info": {
      "name": "python"
    },
    "widgets": {
      "application/vnd.jupyter.widget-state+json": {
        "cd05e158f9864574a951728e69b16692": {
          "model_module": "jupyter-leaflet",
          "model_name": "LeafletMapModel",
          "model_module_version": "^0.18",
          "state": {
            "_dom_classes": [],
            "_model_module": "jupyter-leaflet",
            "_model_module_version": "^0.18",
            "_model_name": "LeafletMapModel",
            "_view_count": null,
            "_view_module": "jupyter-leaflet",
            "_view_module_version": "^0.18",
            "_view_name": "LeafletMapView",
            "bottom": 864,
            "bounce_at_zoom_limits": true,
            "box_zoom": true,
            "center": [
              -17.978733095556155,
              81.56250000000001
            ],
            "close_popup_on_click": true,
            "controls": [
              "IPY_MODEL_5952979b2c284e35b7b2f5c1211ab4ce",
              "IPY_MODEL_8082ea3e67534455b7b9083e6dbcd55c",
              "IPY_MODEL_6072d07ebd114748b66109b480a3e22e",
              "IPY_MODEL_68392aa77ecd4a1c92b080e31f2a65cf",
              "IPY_MODEL_924c49e50dea4ebf8fd96421d9c69275",
              "IPY_MODEL_fc210f75d77a42eb81c8428da1410f72"
            ],
            "crs": {
              "name": "EPSG3857",
              "custom": false
            },
            "default_style": "IPY_MODEL_3b6c0b878d9b487eb05def107184740f",
            "double_click_zoom": true,
            "dragging": true,
            "dragging_style": "IPY_MODEL_5095a16321c6492cb5bfd9ae7615fe17",
            "east": 331.87500000000006,
            "fullscreen": false,
            "inertia": true,
            "inertia_deceleration": 3000,
            "inertia_max_speed": 1500,
            "interpolation": "bilinear",
            "keyboard": true,
            "keyboard_pan_offset": 80,
            "keyboard_zoom_offset": 1,
            "layers": [
              "IPY_MODEL_f87ce0a4041c4e9686a6bc6a0bc2796d"
            ],
            "layout": "IPY_MODEL_f1810d61cb264ca2a65a84cc0b37fc84",
            "left": 32,
            "max_zoom": null,
            "min_zoom": null,
            "modisdate": "2024-03-17",
            "north": 65.36683689226321,
            "options": [
              "bounce_at_zoom_limits",
              "box_zoom",
              "center",
              "close_popup_on_click",
              "double_click_zoom",
              "dragging",
              "fullscreen",
              "inertia",
              "inertia_deceleration",
              "inertia_max_speed",
              "interpolation",
              "keyboard",
              "keyboard_pan_offset",
              "keyboard_zoom_offset",
              "max_zoom",
              "min_zoom",
              "prefer_canvas",
              "scroll_wheel_zoom",
              "tap",
              "tap_tolerance",
              "touch_zoom",
              "world_copy_jump",
              "zoom",
              "zoom_animation_threshold",
              "zoom_delta",
              "zoom_snap"
            ],
            "panes": {},
            "prefer_canvas": false,
            "right": 1456,
            "scroll_wheel_zoom": true,
            "south": -76.84081641443098,
            "style": "IPY_MODEL_3b6c0b878d9b487eb05def107184740f",
            "tap": true,
            "tap_tolerance": 15,
            "top": 264,
            "touch_zoom": true,
            "west": -168.75000000000003,
            "window_url": "https://i5t2ydb23uq-496ff2e9c6d22116-0-colab.googleusercontent.com/outputframe.html?vrz=colab_20240315-060118_RC00_616077585",
            "world_copy_jump": false,
            "zoom": 2,
            "zoom_animation_threshold": 4,
            "zoom_delta": 1,
            "zoom_snap": 1
          }
        },
        "5952979b2c284e35b7b2f5c1211ab4ce": {
          "model_module": "jupyter-leaflet",
          "model_name": "LeafletZoomControlModel",
          "model_module_version": "^0.18",
          "state": {
            "_model_module": "jupyter-leaflet",
            "_model_module_version": "^0.18",
            "_model_name": "LeafletZoomControlModel",
            "_view_count": null,
            "_view_module": "jupyter-leaflet",
            "_view_module_version": "^0.18",
            "_view_name": "LeafletZoomControlView",
            "options": [
              "position",
              "zoom_in_text",
              "zoom_in_title",
              "zoom_out_text",
              "zoom_out_title"
            ],
            "position": "topleft",
            "zoom_in_text": "+",
            "zoom_in_title": "Zoom in",
            "zoom_out_text": "-",
            "zoom_out_title": "Zoom out"
          }
        },
        "8082ea3e67534455b7b9083e6dbcd55c": {
          "model_module": "jupyter-leaflet",
          "model_name": "LeafletFullScreenControlModel",
          "model_module_version": "^0.18",
          "state": {
            "_model_module": "jupyter-leaflet",
            "_model_module_version": "^0.18",
            "_model_name": "LeafletFullScreenControlModel",
            "_view_count": null,
            "_view_module": "jupyter-leaflet",
            "_view_module_version": "^0.18",
            "_view_name": "LeafletFullScreenControlView",
            "options": [
              "position"
            ],
            "position": "topleft"
          }
        },
        "6072d07ebd114748b66109b480a3e22e": {
          "model_module": "jupyter-leaflet",
          "model_name": "LeafletDrawControlModel",
          "model_module_version": "^0.18",
          "state": {
            "_model_module": "jupyter-leaflet",
            "_model_module_version": "^0.18",
            "_model_name": "LeafletDrawControlModel",
            "_view_count": null,
            "_view_module": "jupyter-leaflet",
            "_view_module_version": "^0.18",
            "_view_name": "LeafletDrawControlView",
            "circle": {},
            "circlemarker": {},
            "data": [],
            "edit": true,
            "marker": {
              "shapeOptions": {
                "color": "#3388ff"
              }
            },
            "options": [
              "position"
            ],
            "polygon": {
              "shapeOptions": {}
            },
            "polyline": {
              "shapeOptions": {}
            },
            "position": "topleft",
            "rectangle": {
              "shapeOptions": {
                "color": "#3388ff"
              }
            },
            "remove": true
          }
        },
        "68392aa77ecd4a1c92b080e31f2a65cf": {
          "model_module": "jupyter-leaflet",
          "model_name": "LeafletScaleControlModel",
          "model_module_version": "^0.18",
          "state": {
            "_model_module": "jupyter-leaflet",
            "_model_module_version": "^0.18",
            "_model_name": "LeafletScaleControlModel",
            "_view_count": null,
            "_view_module": "jupyter-leaflet",
            "_view_module_version": "^0.18",
            "_view_name": "LeafletScaleControlView",
            "imperial": true,
            "max_width": 100,
            "metric": true,
            "options": [
              "imperial",
              "max_width",
              "metric",
              "position",
              "update_when_idle"
            ],
            "position": "bottomleft",
            "update_when_idle": false
          }
        },
        "924c49e50dea4ebf8fd96421d9c69275": {
          "model_module": "jupyter-leaflet",
          "model_name": "LeafletWidgetControlModel",
          "model_module_version": "^0.18",
          "state": {
            "_model_module": "jupyter-leaflet",
            "_model_module_version": "^0.18",
            "_model_name": "LeafletWidgetControlModel",
            "_view_count": null,
            "_view_module": "jupyter-leaflet",
            "_view_module_version": "^0.18",
            "_view_name": "LeafletWidgetControlView",
            "max_height": null,
            "max_width": null,
            "min_height": null,
            "min_width": null,
            "options": [
              "position",
              "transparent_bg"
            ],
            "position": "topright",
            "transparent_bg": false,
            "widget": "IPY_MODEL_1677a82ea78c4833a4f02b7d5940a498"
          }
        },
        "fc210f75d77a42eb81c8428da1410f72": {
          "model_module": "jupyter-leaflet",
          "model_name": "LeafletAttributionControlModel",
          "model_module_version": "^0.18",
          "state": {
            "_model_module": "jupyter-leaflet",
            "_model_module_version": "^0.18",
            "_model_name": "LeafletAttributionControlModel",
            "_view_count": null,
            "_view_module": "jupyter-leaflet",
            "_view_module_version": "^0.18",
            "_view_name": "LeafletAttributionControlView",
            "options": [
              "position",
              "prefix"
            ],
            "position": "bottomright",
            "prefix": "ipyleaflet"
          }
        },
        "3b6c0b878d9b487eb05def107184740f": {
          "model_module": "jupyter-leaflet",
          "model_name": "LeafletMapStyleModel",
          "model_module_version": "^0.18",
          "state": {
            "_model_module": "jupyter-leaflet",
            "_model_module_version": "^0.18",
            "_model_name": "LeafletMapStyleModel",
            "_view_count": null,
            "_view_module": "@jupyter-widgets/base",
            "_view_module_version": "1.2.0",
            "_view_name": "StyleView",
            "cursor": "grab"
          }
        },
        "5095a16321c6492cb5bfd9ae7615fe17": {
          "model_module": "jupyter-leaflet",
          "model_name": "LeafletMapStyleModel",
          "model_module_version": "^0.18",
          "state": {
            "_model_module": "jupyter-leaflet",
            "_model_module_version": "^0.18",
            "_model_name": "LeafletMapStyleModel",
            "_view_count": null,
            "_view_module": "@jupyter-widgets/base",
            "_view_module_version": "1.2.0",
            "_view_name": "StyleView",
            "cursor": "move"
          }
        },
        "f87ce0a4041c4e9686a6bc6a0bc2796d": {
          "model_module": "jupyter-leaflet",
          "model_name": "LeafletTileLayerModel",
          "model_module_version": "^0.18",
          "state": {
            "_model_module": "jupyter-leaflet",
            "_model_module_version": "^0.18",
            "_model_name": "LeafletTileLayerModel",
            "_view_count": null,
            "_view_module": "jupyter-leaflet",
            "_view_module_version": "^0.18",
            "_view_name": "LeafletTileLayerView",
            "attribution": "&copy; <a href=\"https://www.openstreetmap.org/copyright\">OpenStreetMap</a> contributors",
            "base": true,
            "bottom": true,
            "bounds": null,
            "detect_retina": false,
            "loading": false,
            "max_native_zoom": null,
            "max_zoom": 19,
            "min_native_zoom": null,
            "min_zoom": 1,
            "name": "OpenStreetMap.Mapnik",
            "no_wrap": false,
            "opacity": 1,
            "options": [
              "attribution",
              "bounds",
              "detect_retina",
              "max_native_zoom",
              "max_zoom",
              "min_native_zoom",
              "min_zoom",
              "no_wrap",
              "tile_size",
              "tms",
              "zoom_offset"
            ],
            "pane": "",
            "popup": null,
            "popup_max_height": null,
            "popup_max_width": 300,
            "popup_min_width": 50,
            "show_loading": false,
            "subitems": [],
            "tile_size": 256,
            "tms": false,
            "url": "https://tile.openstreetmap.org/{z}/{x}/{y}.png",
            "visible": true,
            "zoom_offset": 0
          }
        },
        "f1810d61cb264ca2a65a84cc0b37fc84": {
          "model_module": "@jupyter-widgets/base",
          "model_name": "LayoutModel",
          "model_module_version": "1.2.0",
          "state": {
            "_model_module": "@jupyter-widgets/base",
            "_model_module_version": "1.2.0",
            "_model_name": "LayoutModel",
            "_view_count": null,
            "_view_module": "@jupyter-widgets/base",
            "_view_module_version": "1.2.0",
            "_view_name": "LayoutView",
            "align_content": null,
            "align_items": null,
            "align_self": null,
            "border": null,
            "bottom": null,
            "display": null,
            "flex": null,
            "flex_flow": null,
            "grid_area": null,
            "grid_auto_columns": null,
            "grid_auto_flow": null,
            "grid_auto_rows": null,
            "grid_column": null,
            "grid_gap": null,
            "grid_row": null,
            "grid_template_areas": null,
            "grid_template_columns": null,
            "grid_template_rows": null,
            "height": "600px",
            "justify_content": null,
            "justify_items": null,
            "left": null,
            "margin": null,
            "max_height": null,
            "max_width": null,
            "min_height": null,
            "min_width": null,
            "object_fit": null,
            "object_position": null,
            "order": null,
            "overflow": null,
            "overflow_x": null,
            "overflow_y": null,
            "padding": null,
            "right": null,
            "top": null,
            "visibility": null,
            "width": null
          }
        },
        "00224e513df84d83bbfd479d93c89fc2": {
          "model_module": "jupyter-leaflet",
          "model_name": "LeafletMapStyleModel",
          "model_module_version": "^0.18",
          "state": {
            "_model_module": "jupyter-leaflet",
            "_model_module_version": "^0.18",
            "_model_name": "LeafletMapStyleModel",
            "_view_count": null,
            "_view_module": "@jupyter-widgets/base",
            "_view_module_version": "1.2.0",
            "_view_name": "StyleView",
            "cursor": "grab"
          }
        },
        "1677a82ea78c4833a4f02b7d5940a498": {
          "model_module": "@jupyter-widgets/controls",
          "model_name": "VBoxModel",
          "model_module_version": "1.5.0",
          "state": {
            "_dom_classes": [
              "geemap-colab"
            ],
            "_model_module": "@jupyter-widgets/controls",
            "_model_module_version": "1.5.0",
            "_model_name": "VBoxModel",
            "_view_count": null,
            "_view_module": "@jupyter-widgets/controls",
            "_view_module_version": "1.5.0",
            "_view_name": "VBoxView",
            "box_style": "",
            "children": [
              "IPY_MODEL_8d4c3d400d734fd09b88a5f85418d367"
            ],
            "layout": "IPY_MODEL_a0f5024355d844e88834094a844dc208"
          }
        },
        "8d4c3d400d734fd09b88a5f85418d367": {
          "model_module": "@jupyter-widgets/controls",
          "model_name": "ToggleButtonModel",
          "model_module_version": "1.5.0",
          "state": {
            "_dom_classes": [],
            "_model_module": "@jupyter-widgets/controls",
            "_model_module_version": "1.5.0",
            "_model_name": "ToggleButtonModel",
            "_view_count": null,
            "_view_module": "@jupyter-widgets/controls",
            "_view_module_version": "1.5.0",
            "_view_name": "ToggleButtonView",
            "button_style": "",
            "description": "",
            "description_tooltip": null,
            "disabled": false,
            "icon": "wrench",
            "layout": "IPY_MODEL_ea148ed380114b94b19c9051419cc00a",
            "style": "IPY_MODEL_6304fae33a59482b883b07353d08aba4",
            "tooltip": "Toolbar",
            "value": false
          }
        },
        "a0f5024355d844e88834094a844dc208": {
          "model_module": "@jupyter-widgets/base",
          "model_name": "LayoutModel",
          "model_module_version": "1.2.0",
          "state": {
            "_model_module": "@jupyter-widgets/base",
            "_model_module_version": "1.2.0",
            "_model_name": "LayoutModel",
            "_view_count": null,
            "_view_module": "@jupyter-widgets/base",
            "_view_module_version": "1.2.0",
            "_view_name": "LayoutView",
            "align_content": null,
            "align_items": null,
            "align_self": null,
            "border": null,
            "bottom": null,
            "display": null,
            "flex": null,
            "flex_flow": null,
            "grid_area": null,
            "grid_auto_columns": null,
            "grid_auto_flow": null,
            "grid_auto_rows": null,
            "grid_column": null,
            "grid_gap": null,
            "grid_row": null,
            "grid_template_areas": null,
            "grid_template_columns": null,
            "grid_template_rows": null,
            "height": null,
            "justify_content": null,
            "justify_items": null,
            "left": null,
            "margin": null,
            "max_height": null,
            "max_width": null,
            "min_height": null,
            "min_width": null,
            "object_fit": null,
            "object_position": null,
            "order": null,
            "overflow": null,
            "overflow_x": null,
            "overflow_y": null,
            "padding": null,
            "right": null,
            "top": null,
            "visibility": null,
            "width": null
          }
        },
        "ea148ed380114b94b19c9051419cc00a": {
          "model_module": "@jupyter-widgets/base",
          "model_name": "LayoutModel",
          "model_module_version": "1.2.0",
          "state": {
            "_model_module": "@jupyter-widgets/base",
            "_model_module_version": "1.2.0",
            "_model_name": "LayoutModel",
            "_view_count": null,
            "_view_module": "@jupyter-widgets/base",
            "_view_module_version": "1.2.0",
            "_view_name": "LayoutView",
            "align_content": null,
            "align_items": null,
            "align_self": null,
            "border": null,
            "bottom": null,
            "display": null,
            "flex": null,
            "flex_flow": null,
            "grid_area": null,
            "grid_auto_columns": null,
            "grid_auto_flow": null,
            "grid_auto_rows": null,
            "grid_column": null,
            "grid_gap": null,
            "grid_row": null,
            "grid_template_areas": null,
            "grid_template_columns": null,
            "grid_template_rows": null,
            "height": "28px",
            "justify_content": null,
            "justify_items": null,
            "left": null,
            "margin": null,
            "max_height": null,
            "max_width": null,
            "min_height": null,
            "min_width": null,
            "object_fit": null,
            "object_position": null,
            "order": null,
            "overflow": null,
            "overflow_x": null,
            "overflow_y": null,
            "padding": "0px 0px 0px 4px",
            "right": null,
            "top": null,
            "visibility": null,
            "width": "28px"
          }
        },
        "6304fae33a59482b883b07353d08aba4": {
          "model_module": "@jupyter-widgets/controls",
          "model_name": "DescriptionStyleModel",
          "model_module_version": "1.5.0",
          "state": {
            "_model_module": "@jupyter-widgets/controls",
            "_model_module_version": "1.5.0",
            "_model_name": "DescriptionStyleModel",
            "_view_count": null,
            "_view_module": "@jupyter-widgets/base",
            "_view_module_version": "1.2.0",
            "_view_name": "StyleView",
            "description_width": ""
          }
        },
        "518bd7d506234f33ac9f34ff4a5e75a6": {
          "model_module": "jupyter-leaflet",
          "model_name": "LeafletMapModel",
          "model_module_version": "^0.18",
          "state": {
            "_dom_classes": [],
            "_model_module": "jupyter-leaflet",
            "_model_module_version": "^0.18",
            "_model_name": "LeafletMapModel",
            "_view_count": null,
            "_view_module": "jupyter-leaflet",
            "_view_module_version": "^0.18",
            "_view_name": "LeafletMapView",
            "bottom": 1197,
            "bounce_at_zoom_limits": true,
            "box_zoom": true,
            "center": [
              21.79,
              70.87
            ],
            "close_popup_on_click": true,
            "controls": [
              "IPY_MODEL_216c837424d3495aa63f0bf78b60a5c3",
              "IPY_MODEL_ec44bfd576a849878e600eb7d7bbdb8b",
              "IPY_MODEL_2ac7671779b54df285f09b09c802c2ca",
              "IPY_MODEL_112ea3e3c5ce4eed8e913dad68456c5f",
              "IPY_MODEL_7772aa66ae764b7a92d5f54a3e50f1be",
              "IPY_MODEL_eac2bc39a9804bab98546e10001ed0bf"
            ],
            "crs": {
              "name": "EPSG3857",
              "custom": false
            },
            "default_style": "IPY_MODEL_9ddee15fd4e543b59c6cda2df2a1be4e",
            "double_click_zoom": true,
            "dragging": true,
            "dragging_style": "IPY_MODEL_10218859ed114859be8e72d7f0f18d89",
            "east": 195.99609375,
            "fullscreen": false,
            "inertia": true,
            "inertia_deceleration": 3000,
            "inertia_max_speed": 1500,
            "interpolation": "bilinear",
            "keyboard": true,
            "keyboard_pan_offset": 80,
            "keyboard_zoom_offset": 1,
            "layers": [
              "IPY_MODEL_279a0ba03b454240ab271b2ba33a21c3",
              "IPY_MODEL_85c80099fdf5412c9bc38d80fe5fd313"
            ],
            "layout": "IPY_MODEL_bba562d990c6411b8822108e6b23d7bb",
            "left": 715,
            "max_zoom": null,
            "min_zoom": null,
            "modisdate": "2024-03-17",
            "north": 59.80063426102869,
            "options": [
              "bounce_at_zoom_limits",
              "box_zoom",
              "center",
              "close_popup_on_click",
              "double_click_zoom",
              "dragging",
              "fullscreen",
              "inertia",
              "inertia_deceleration",
              "inertia_max_speed",
              "interpolation",
              "keyboard",
              "keyboard_pan_offset",
              "keyboard_zoom_offset",
              "max_zoom",
              "min_zoom",
              "prefer_canvas",
              "scroll_wheel_zoom",
              "tap",
              "tap_tolerance",
              "touch_zoom",
              "world_copy_jump",
              "zoom",
              "zoom_animation_threshold",
              "zoom_delta",
              "zoom_snap"
            ],
            "panes": {},
            "prefer_canvas": false,
            "right": 2139,
            "scroll_wheel_zoom": true,
            "south": -29.07537517955836,
            "style": "IPY_MODEL_263084aec0ea4c22b175552b097231c5",
            "tap": true,
            "tap_tolerance": 15,
            "top": 597,
            "touch_zoom": true,
            "west": -54.31640625000001,
            "window_url": "https://i5t2ydb23uq-496ff2e9c6d22116-0-colab.googleusercontent.com/outputframe.html?vrz=colab_20240315-060118_RC00_616077585",
            "world_copy_jump": false,
            "zoom": 3,
            "zoom_animation_threshold": 4,
            "zoom_delta": 1,
            "zoom_snap": 1
          }
        },
        "216c837424d3495aa63f0bf78b60a5c3": {
          "model_module": "jupyter-leaflet",
          "model_name": "LeafletZoomControlModel",
          "model_module_version": "^0.18",
          "state": {
            "_model_module": "jupyter-leaflet",
            "_model_module_version": "^0.18",
            "_model_name": "LeafletZoomControlModel",
            "_view_count": null,
            "_view_module": "jupyter-leaflet",
            "_view_module_version": "^0.18",
            "_view_name": "LeafletZoomControlView",
            "options": [
              "position",
              "zoom_in_text",
              "zoom_in_title",
              "zoom_out_text",
              "zoom_out_title"
            ],
            "position": "topleft",
            "zoom_in_text": "+",
            "zoom_in_title": "Zoom in",
            "zoom_out_text": "-",
            "zoom_out_title": "Zoom out"
          }
        },
        "ec44bfd576a849878e600eb7d7bbdb8b": {
          "model_module": "jupyter-leaflet",
          "model_name": "LeafletFullScreenControlModel",
          "model_module_version": "^0.18",
          "state": {
            "_model_module": "jupyter-leaflet",
            "_model_module_version": "^0.18",
            "_model_name": "LeafletFullScreenControlModel",
            "_view_count": null,
            "_view_module": "jupyter-leaflet",
            "_view_module_version": "^0.18",
            "_view_name": "LeafletFullScreenControlView",
            "options": [
              "position"
            ],
            "position": "topleft"
          }
        },
        "2ac7671779b54df285f09b09c802c2ca": {
          "model_module": "jupyter-leaflet",
          "model_name": "LeafletDrawControlModel",
          "model_module_version": "^0.18",
          "state": {
            "_model_module": "jupyter-leaflet",
            "_model_module_version": "^0.18",
            "_model_name": "LeafletDrawControlModel",
            "_view_count": null,
            "_view_module": "jupyter-leaflet",
            "_view_module_version": "^0.18",
            "_view_name": "LeafletDrawControlView",
            "circle": {},
            "circlemarker": {},
            "data": [],
            "edit": true,
            "marker": {
              "shapeOptions": {
                "color": "#3388ff"
              }
            },
            "options": [
              "position"
            ],
            "polygon": {
              "shapeOptions": {}
            },
            "polyline": {
              "shapeOptions": {}
            },
            "position": "topleft",
            "rectangle": {
              "shapeOptions": {
                "color": "#3388ff"
              }
            },
            "remove": true
          }
        },
        "112ea3e3c5ce4eed8e913dad68456c5f": {
          "model_module": "jupyter-leaflet",
          "model_name": "LeafletScaleControlModel",
          "model_module_version": "^0.18",
          "state": {
            "_model_module": "jupyter-leaflet",
            "_model_module_version": "^0.18",
            "_model_name": "LeafletScaleControlModel",
            "_view_count": null,
            "_view_module": "jupyter-leaflet",
            "_view_module_version": "^0.18",
            "_view_name": "LeafletScaleControlView",
            "imperial": true,
            "max_width": 100,
            "metric": true,
            "options": [
              "imperial",
              "max_width",
              "metric",
              "position",
              "update_when_idle"
            ],
            "position": "bottomleft",
            "update_when_idle": false
          }
        },
        "7772aa66ae764b7a92d5f54a3e50f1be": {
          "model_module": "jupyter-leaflet",
          "model_name": "LeafletWidgetControlModel",
          "model_module_version": "^0.18",
          "state": {
            "_model_module": "jupyter-leaflet",
            "_model_module_version": "^0.18",
            "_model_name": "LeafletWidgetControlModel",
            "_view_count": null,
            "_view_module": "jupyter-leaflet",
            "_view_module_version": "^0.18",
            "_view_name": "LeafletWidgetControlView",
            "max_height": null,
            "max_width": null,
            "min_height": null,
            "min_width": null,
            "options": [
              "position",
              "transparent_bg"
            ],
            "position": "topright",
            "transparent_bg": false,
            "widget": "IPY_MODEL_d3fc48c05cb54398b4c4d2d1a4ae39dd"
          }
        },
        "eac2bc39a9804bab98546e10001ed0bf": {
          "model_module": "jupyter-leaflet",
          "model_name": "LeafletAttributionControlModel",
          "model_module_version": "^0.18",
          "state": {
            "_model_module": "jupyter-leaflet",
            "_model_module_version": "^0.18",
            "_model_name": "LeafletAttributionControlModel",
            "_view_count": null,
            "_view_module": "jupyter-leaflet",
            "_view_module_version": "^0.18",
            "_view_name": "LeafletAttributionControlView",
            "options": [
              "position",
              "prefix"
            ],
            "position": "bottomright",
            "prefix": "ipyleaflet"
          }
        },
        "9ddee15fd4e543b59c6cda2df2a1be4e": {
          "model_module": "jupyter-leaflet",
          "model_name": "LeafletMapStyleModel",
          "model_module_version": "^0.18",
          "state": {
            "_model_module": "jupyter-leaflet",
            "_model_module_version": "^0.18",
            "_model_name": "LeafletMapStyleModel",
            "_view_count": null,
            "_view_module": "@jupyter-widgets/base",
            "_view_module_version": "1.2.0",
            "_view_name": "StyleView",
            "cursor": "grab"
          }
        },
        "10218859ed114859be8e72d7f0f18d89": {
          "model_module": "jupyter-leaflet",
          "model_name": "LeafletMapStyleModel",
          "model_module_version": "^0.18",
          "state": {
            "_model_module": "jupyter-leaflet",
            "_model_module_version": "^0.18",
            "_model_name": "LeafletMapStyleModel",
            "_view_count": null,
            "_view_module": "@jupyter-widgets/base",
            "_view_module_version": "1.2.0",
            "_view_name": "StyleView",
            "cursor": "move"
          }
        },
        "279a0ba03b454240ab271b2ba33a21c3": {
          "model_module": "jupyter-leaflet",
          "model_name": "LeafletTileLayerModel",
          "model_module_version": "^0.18",
          "state": {
            "_model_module": "jupyter-leaflet",
            "_model_module_version": "^0.18",
            "_model_name": "LeafletTileLayerModel",
            "_view_count": null,
            "_view_module": "jupyter-leaflet",
            "_view_module_version": "^0.18",
            "_view_name": "LeafletTileLayerView",
            "attribution": "&copy; <a href=\"https://www.openstreetmap.org/copyright\">OpenStreetMap</a> contributors",
            "base": true,
            "bottom": true,
            "bounds": null,
            "detect_retina": false,
            "loading": false,
            "max_native_zoom": null,
            "max_zoom": 19,
            "min_native_zoom": null,
            "min_zoom": 1,
            "name": "OpenStreetMap.Mapnik",
            "no_wrap": false,
            "opacity": 1,
            "options": [
              "attribution",
              "bounds",
              "detect_retina",
              "max_native_zoom",
              "max_zoom",
              "min_native_zoom",
              "min_zoom",
              "no_wrap",
              "tile_size",
              "tms",
              "zoom_offset"
            ],
            "pane": "",
            "popup": null,
            "popup_max_height": null,
            "popup_max_width": 300,
            "popup_min_width": 50,
            "show_loading": false,
            "subitems": [],
            "tile_size": 256,
            "tms": false,
            "url": "https://tile.openstreetmap.org/{z}/{x}/{y}.png",
            "visible": true,
            "zoom_offset": 0
          }
        },
        "85c80099fdf5412c9bc38d80fe5fd313": {
          "model_module": "jupyter-leaflet",
          "model_name": "LeafletTileLayerModel",
          "model_module_version": "^0.18",
          "state": {
            "_model_module": "jupyter-leaflet",
            "_model_module_version": "^0.18",
            "_model_name": "LeafletTileLayerModel",
            "_view_count": null,
            "_view_module": "jupyter-leaflet",
            "_view_module_version": "^0.18",
            "_view_name": "LeafletTileLayerView",
            "attribution": "Google Earth Engine",
            "base": false,
            "bottom": true,
            "bounds": null,
            "detect_retina": false,
            "loading": false,
            "max_native_zoom": null,
            "max_zoom": 24,
            "min_native_zoom": null,
            "min_zoom": 0,
            "name": "SRTM",
            "no_wrap": false,
            "opacity": 1,
            "options": [
              "attribution",
              "bounds",
              "detect_retina",
              "max_native_zoom",
              "max_zoom",
              "min_native_zoom",
              "min_zoom",
              "no_wrap",
              "tile_size",
              "tms",
              "zoom_offset"
            ],
            "pane": "",
            "popup": null,
            "popup_max_height": null,
            "popup_max_width": 300,
            "popup_min_width": 50,
            "show_loading": false,
            "subitems": [],
            "tile_size": 256,
            "tms": false,
            "url": "https://earthengine.googleapis.com/v1/projects/lenkamikova256/maps/c62bbabe1c567c732f0f9f38f901a3af-15d55cfaa412483ec595ded09c73ffde/tiles/{z}/{x}/{y}",
            "visible": true,
            "zoom_offset": 0
          }
        },
        "bba562d990c6411b8822108e6b23d7bb": {
          "model_module": "@jupyter-widgets/base",
          "model_name": "LayoutModel",
          "model_module_version": "1.2.0",
          "state": {
            "_model_module": "@jupyter-widgets/base",
            "_model_module_version": "1.2.0",
            "_model_name": "LayoutModel",
            "_view_count": null,
            "_view_module": "@jupyter-widgets/base",
            "_view_module_version": "1.2.0",
            "_view_name": "LayoutView",
            "align_content": null,
            "align_items": null,
            "align_self": null,
            "border": null,
            "bottom": null,
            "display": null,
            "flex": null,
            "flex_flow": null,
            "grid_area": null,
            "grid_auto_columns": null,
            "grid_auto_flow": null,
            "grid_auto_rows": null,
            "grid_column": null,
            "grid_gap": null,
            "grid_row": null,
            "grid_template_areas": null,
            "grid_template_columns": null,
            "grid_template_rows": null,
            "height": "600px",
            "justify_content": null,
            "justify_items": null,
            "left": null,
            "margin": null,
            "max_height": null,
            "max_width": null,
            "min_height": null,
            "min_width": null,
            "object_fit": null,
            "object_position": null,
            "order": null,
            "overflow": null,
            "overflow_x": null,
            "overflow_y": null,
            "padding": null,
            "right": null,
            "top": null,
            "visibility": null,
            "width": null
          }
        },
        "263084aec0ea4c22b175552b097231c5": {
          "model_module": "jupyter-leaflet",
          "model_name": "LeafletMapStyleModel",
          "model_module_version": "^0.18",
          "state": {
            "_model_module": "jupyter-leaflet",
            "_model_module_version": "^0.18",
            "_model_name": "LeafletMapStyleModel",
            "_view_count": null,
            "_view_module": "@jupyter-widgets/base",
            "_view_module_version": "1.2.0",
            "_view_name": "StyleView",
            "cursor": "grab"
          }
        },
        "d3fc48c05cb54398b4c4d2d1a4ae39dd": {
          "model_module": "@jupyter-widgets/controls",
          "model_name": "VBoxModel",
          "model_module_version": "1.5.0",
          "state": {
            "_dom_classes": [
              "geemap-colab"
            ],
            "_model_module": "@jupyter-widgets/controls",
            "_model_module_version": "1.5.0",
            "_model_name": "VBoxModel",
            "_view_count": null,
            "_view_module": "@jupyter-widgets/controls",
            "_view_module_version": "1.5.0",
            "_view_name": "VBoxView",
            "box_style": "",
            "children": [
              "IPY_MODEL_68c7cd1de5364a3883f64e26f7f7c9a0"
            ],
            "layout": "IPY_MODEL_d3384d4164b1409ba51581f0729df698"
          }
        },
        "68c7cd1de5364a3883f64e26f7f7c9a0": {
          "model_module": "@jupyter-widgets/controls",
          "model_name": "ToggleButtonModel",
          "model_module_version": "1.5.0",
          "state": {
            "_dom_classes": [],
            "_model_module": "@jupyter-widgets/controls",
            "_model_module_version": "1.5.0",
            "_model_name": "ToggleButtonModel",
            "_view_count": null,
            "_view_module": "@jupyter-widgets/controls",
            "_view_module_version": "1.5.0",
            "_view_name": "ToggleButtonView",
            "button_style": "",
            "description": "",
            "description_tooltip": null,
            "disabled": false,
            "icon": "wrench",
            "layout": "IPY_MODEL_7211fc78d6154867bd70b4b13c67f117",
            "style": "IPY_MODEL_37345796b7df492fb810749374e61d78",
            "tooltip": "Toolbar",
            "value": false
          }
        },
        "d3384d4164b1409ba51581f0729df698": {
          "model_module": "@jupyter-widgets/base",
          "model_name": "LayoutModel",
          "model_module_version": "1.2.0",
          "state": {
            "_model_module": "@jupyter-widgets/base",
            "_model_module_version": "1.2.0",
            "_model_name": "LayoutModel",
            "_view_count": null,
            "_view_module": "@jupyter-widgets/base",
            "_view_module_version": "1.2.0",
            "_view_name": "LayoutView",
            "align_content": null,
            "align_items": null,
            "align_self": null,
            "border": null,
            "bottom": null,
            "display": null,
            "flex": null,
            "flex_flow": null,
            "grid_area": null,
            "grid_auto_columns": null,
            "grid_auto_flow": null,
            "grid_auto_rows": null,
            "grid_column": null,
            "grid_gap": null,
            "grid_row": null,
            "grid_template_areas": null,
            "grid_template_columns": null,
            "grid_template_rows": null,
            "height": null,
            "justify_content": null,
            "justify_items": null,
            "left": null,
            "margin": null,
            "max_height": null,
            "max_width": null,
            "min_height": null,
            "min_width": null,
            "object_fit": null,
            "object_position": null,
            "order": null,
            "overflow": null,
            "overflow_x": null,
            "overflow_y": null,
            "padding": null,
            "right": null,
            "top": null,
            "visibility": null,
            "width": null
          }
        },
        "7211fc78d6154867bd70b4b13c67f117": {
          "model_module": "@jupyter-widgets/base",
          "model_name": "LayoutModel",
          "model_module_version": "1.2.0",
          "state": {
            "_model_module": "@jupyter-widgets/base",
            "_model_module_version": "1.2.0",
            "_model_name": "LayoutModel",
            "_view_count": null,
            "_view_module": "@jupyter-widgets/base",
            "_view_module_version": "1.2.0",
            "_view_name": "LayoutView",
            "align_content": null,
            "align_items": null,
            "align_self": null,
            "border": null,
            "bottom": null,
            "display": null,
            "flex": null,
            "flex_flow": null,
            "grid_area": null,
            "grid_auto_columns": null,
            "grid_auto_flow": null,
            "grid_auto_rows": null,
            "grid_column": null,
            "grid_gap": null,
            "grid_row": null,
            "grid_template_areas": null,
            "grid_template_columns": null,
            "grid_template_rows": null,
            "height": "28px",
            "justify_content": null,
            "justify_items": null,
            "left": null,
            "margin": null,
            "max_height": null,
            "max_width": null,
            "min_height": null,
            "min_width": null,
            "object_fit": null,
            "object_position": null,
            "order": null,
            "overflow": null,
            "overflow_x": null,
            "overflow_y": null,
            "padding": "0px 0px 0px 4px",
            "right": null,
            "top": null,
            "visibility": null,
            "width": "28px"
          }
        },
        "37345796b7df492fb810749374e61d78": {
          "model_module": "@jupyter-widgets/controls",
          "model_name": "DescriptionStyleModel",
          "model_module_version": "1.5.0",
          "state": {
            "_model_module": "@jupyter-widgets/controls",
            "_model_module_version": "1.5.0",
            "_model_name": "DescriptionStyleModel",
            "_view_count": null,
            "_view_module": "@jupyter-widgets/base",
            "_view_module_version": "1.2.0",
            "_view_name": "StyleView",
            "description_width": ""
          }
        },
        "aac5350abcdb44a4aca778f77df46bf3": {
          "model_module": "jupyter-leaflet",
          "model_name": "LeafletMapModel",
          "model_module_version": "^0.18",
          "state": {
            "_dom_classes": [],
            "_model_module": "jupyter-leaflet",
            "_model_module_version": "^0.18",
            "_model_name": "LeafletMapModel",
            "_view_count": null,
            "_view_module": "jupyter-leaflet",
            "_view_module_version": "^0.18",
            "_view_name": "LeafletMapView",
            "bottom": 472190,
            "bounce_at_zoom_limits": true,
            "box_zoom": true,
            "center": [
              17.7009,
              83.277
            ],
            "close_popup_on_click": true,
            "controls": [
              "IPY_MODEL_579d90a4598e47189a912147d7003323",
              "IPY_MODEL_f6d24e2cb70b441dbca862ad4bb31075",
              "IPY_MODEL_135cb47f81ed4b4880d7969ead5895cc",
              "IPY_MODEL_8b881933e0f84535a6c75ce51cdc0e10",
              "IPY_MODEL_ebed955051e44b3ebed8e5416064f9f0",
              "IPY_MODEL_fe9af9ee8901425b961a151c87337d8d"
            ],
            "crs": {
              "name": "EPSG3857",
              "custom": false
            },
            "default_style": "IPY_MODEL_04dee5ea71314b55b27f05887f5ff20f",
            "double_click_zoom": true,
            "dragging": true,
            "dragging_style": "IPY_MODEL_e092d28add05475aab57c2aaf1f87823",
            "east": 83.52149963378908,
            "fullscreen": false,
            "inertia": true,
            "inertia_deceleration": 3000,
            "inertia_max_speed": 1500,
            "interpolation": "bilinear",
            "keyboard": true,
            "keyboard_pan_offset": 80,
            "keyboard_zoom_offset": 1,
            "layers": [
              "IPY_MODEL_15efb75554af456e971d570fe3704152",
              "IPY_MODEL_c6df97f8f79247139479e6021c4784e0"
            ],
            "layout": "IPY_MODEL_ddef628410014e3885d7dc6963e1faf8",
            "left": 766138,
            "max_zoom": null,
            "min_zoom": null,
            "modisdate": "2024-03-17",
            "north": 17.79903472172503,
            "options": [
              "bounce_at_zoom_limits",
              "box_zoom",
              "center",
              "close_popup_on_click",
              "double_click_zoom",
              "dragging",
              "fullscreen",
              "inertia",
              "inertia_deceleration",
              "inertia_max_speed",
              "interpolation",
              "keyboard",
              "keyboard_pan_offset",
              "keyboard_zoom_offset",
              "max_zoom",
              "min_zoom",
              "prefer_canvas",
              "scroll_wheel_zoom",
              "tap",
              "tap_tolerance",
              "touch_zoom",
              "world_copy_jump",
              "zoom",
              "zoom_animation_threshold",
              "zoom_delta",
              "zoom_snap"
            ],
            "panes": {},
            "prefer_canvas": false,
            "right": 767562,
            "scroll_wheel_zoom": true,
            "south": 17.602793618503053,
            "style": "IPY_MODEL_80452cd7e23f40e78c7bf4b982965f17",
            "tap": true,
            "tap_tolerance": 15,
            "top": 471590,
            "touch_zoom": true,
            "west": 83.03260803222658,
            "window_url": "https://i5t2ydb23uq-496ff2e9c6d22116-0-colab.googleusercontent.com/outputframe.html?vrz=colab_20240315-060118_RC00_616077585",
            "world_copy_jump": false,
            "zoom": 12,
            "zoom_animation_threshold": 4,
            "zoom_delta": 1,
            "zoom_snap": 1
          }
        },
        "579d90a4598e47189a912147d7003323": {
          "model_module": "jupyter-leaflet",
          "model_name": "LeafletZoomControlModel",
          "model_module_version": "^0.18",
          "state": {
            "_model_module": "jupyter-leaflet",
            "_model_module_version": "^0.18",
            "_model_name": "LeafletZoomControlModel",
            "_view_count": null,
            "_view_module": "jupyter-leaflet",
            "_view_module_version": "^0.18",
            "_view_name": "LeafletZoomControlView",
            "options": [
              "position",
              "zoom_in_text",
              "zoom_in_title",
              "zoom_out_text",
              "zoom_out_title"
            ],
            "position": "topleft",
            "zoom_in_text": "+",
            "zoom_in_title": "Zoom in",
            "zoom_out_text": "-",
            "zoom_out_title": "Zoom out"
          }
        },
        "f6d24e2cb70b441dbca862ad4bb31075": {
          "model_module": "jupyter-leaflet",
          "model_name": "LeafletFullScreenControlModel",
          "model_module_version": "^0.18",
          "state": {
            "_model_module": "jupyter-leaflet",
            "_model_module_version": "^0.18",
            "_model_name": "LeafletFullScreenControlModel",
            "_view_count": null,
            "_view_module": "jupyter-leaflet",
            "_view_module_version": "^0.18",
            "_view_name": "LeafletFullScreenControlView",
            "options": [
              "position"
            ],
            "position": "topleft"
          }
        },
        "135cb47f81ed4b4880d7969ead5895cc": {
          "model_module": "jupyter-leaflet",
          "model_name": "LeafletDrawControlModel",
          "model_module_version": "^0.18",
          "state": {
            "_model_module": "jupyter-leaflet",
            "_model_module_version": "^0.18",
            "_model_name": "LeafletDrawControlModel",
            "_view_count": null,
            "_view_module": "jupyter-leaflet",
            "_view_module_version": "^0.18",
            "_view_name": "LeafletDrawControlView",
            "circle": {},
            "circlemarker": {},
            "data": [],
            "edit": true,
            "marker": {
              "shapeOptions": {
                "color": "#3388ff"
              }
            },
            "options": [
              "position"
            ],
            "polygon": {
              "shapeOptions": {}
            },
            "polyline": {
              "shapeOptions": {}
            },
            "position": "topleft",
            "rectangle": {
              "shapeOptions": {
                "color": "#3388ff"
              }
            },
            "remove": true
          }
        },
        "8b881933e0f84535a6c75ce51cdc0e10": {
          "model_module": "jupyter-leaflet",
          "model_name": "LeafletScaleControlModel",
          "model_module_version": "^0.18",
          "state": {
            "_model_module": "jupyter-leaflet",
            "_model_module_version": "^0.18",
            "_model_name": "LeafletScaleControlModel",
            "_view_count": null,
            "_view_module": "jupyter-leaflet",
            "_view_module_version": "^0.18",
            "_view_name": "LeafletScaleControlView",
            "imperial": true,
            "max_width": 100,
            "metric": true,
            "options": [
              "imperial",
              "max_width",
              "metric",
              "position",
              "update_when_idle"
            ],
            "position": "bottomleft",
            "update_when_idle": false
          }
        },
        "ebed955051e44b3ebed8e5416064f9f0": {
          "model_module": "jupyter-leaflet",
          "model_name": "LeafletWidgetControlModel",
          "model_module_version": "^0.18",
          "state": {
            "_model_module": "jupyter-leaflet",
            "_model_module_version": "^0.18",
            "_model_name": "LeafletWidgetControlModel",
            "_view_count": null,
            "_view_module": "jupyter-leaflet",
            "_view_module_version": "^0.18",
            "_view_name": "LeafletWidgetControlView",
            "max_height": null,
            "max_width": null,
            "min_height": null,
            "min_width": null,
            "options": [
              "position",
              "transparent_bg"
            ],
            "position": "topright",
            "transparent_bg": false,
            "widget": "IPY_MODEL_7d5fc5f008724336bbed4af2590af178"
          }
        },
        "fe9af9ee8901425b961a151c87337d8d": {
          "model_module": "jupyter-leaflet",
          "model_name": "LeafletAttributionControlModel",
          "model_module_version": "^0.18",
          "state": {
            "_model_module": "jupyter-leaflet",
            "_model_module_version": "^0.18",
            "_model_name": "LeafletAttributionControlModel",
            "_view_count": null,
            "_view_module": "jupyter-leaflet",
            "_view_module_version": "^0.18",
            "_view_name": "LeafletAttributionControlView",
            "options": [
              "position",
              "prefix"
            ],
            "position": "bottomright",
            "prefix": "ipyleaflet"
          }
        },
        "04dee5ea71314b55b27f05887f5ff20f": {
          "model_module": "jupyter-leaflet",
          "model_name": "LeafletMapStyleModel",
          "model_module_version": "^0.18",
          "state": {
            "_model_module": "jupyter-leaflet",
            "_model_module_version": "^0.18",
            "_model_name": "LeafletMapStyleModel",
            "_view_count": null,
            "_view_module": "@jupyter-widgets/base",
            "_view_module_version": "1.2.0",
            "_view_name": "StyleView",
            "cursor": "grab"
          }
        },
        "e092d28add05475aab57c2aaf1f87823": {
          "model_module": "jupyter-leaflet",
          "model_name": "LeafletMapStyleModel",
          "model_module_version": "^0.18",
          "state": {
            "_model_module": "jupyter-leaflet",
            "_model_module_version": "^0.18",
            "_model_name": "LeafletMapStyleModel",
            "_view_count": null,
            "_view_module": "@jupyter-widgets/base",
            "_view_module_version": "1.2.0",
            "_view_name": "StyleView",
            "cursor": "move"
          }
        },
        "15efb75554af456e971d570fe3704152": {
          "model_module": "jupyter-leaflet",
          "model_name": "LeafletTileLayerModel",
          "model_module_version": "^0.18",
          "state": {
            "_model_module": "jupyter-leaflet",
            "_model_module_version": "^0.18",
            "_model_name": "LeafletTileLayerModel",
            "_view_count": null,
            "_view_module": "jupyter-leaflet",
            "_view_module_version": "^0.18",
            "_view_name": "LeafletTileLayerView",
            "attribution": "&copy; <a href=\"https://www.openstreetmap.org/copyright\">OpenStreetMap</a> contributors",
            "base": true,
            "bottom": true,
            "bounds": null,
            "detect_retina": false,
            "loading": false,
            "max_native_zoom": null,
            "max_zoom": 19,
            "min_native_zoom": null,
            "min_zoom": 1,
            "name": "OpenStreetMap.Mapnik",
            "no_wrap": false,
            "opacity": 1,
            "options": [
              "attribution",
              "bounds",
              "detect_retina",
              "max_native_zoom",
              "max_zoom",
              "min_native_zoom",
              "min_zoom",
              "no_wrap",
              "tile_size",
              "tms",
              "zoom_offset"
            ],
            "pane": "",
            "popup": null,
            "popup_max_height": null,
            "popup_max_width": 300,
            "popup_min_width": 50,
            "show_loading": false,
            "subitems": [],
            "tile_size": 256,
            "tms": false,
            "url": "https://tile.openstreetmap.org/{z}/{x}/{y}.png",
            "visible": true,
            "zoom_offset": 0
          }
        },
        "c6df97f8f79247139479e6021c4784e0": {
          "model_module": "jupyter-leaflet",
          "model_name": "LeafletTileLayerModel",
          "model_module_version": "^0.18",
          "state": {
            "_model_module": "jupyter-leaflet",
            "_model_module_version": "^0.18",
            "_model_name": "LeafletTileLayerModel",
            "_view_count": null,
            "_view_module": "jupyter-leaflet",
            "_view_module_version": "^0.18",
            "_view_name": "LeafletTileLayerView",
            "attribution": "Google Earth Engine",
            "base": false,
            "bottom": true,
            "bounds": null,
            "detect_retina": false,
            "loading": false,
            "max_native_zoom": null,
            "max_zoom": 24,
            "min_native_zoom": null,
            "min_zoom": 0,
            "name": "Sentinel-2",
            "no_wrap": false,
            "opacity": 1,
            "options": [
              "attribution",
              "bounds",
              "detect_retina",
              "max_native_zoom",
              "max_zoom",
              "min_native_zoom",
              "min_zoom",
              "no_wrap",
              "tile_size",
              "tms",
              "zoom_offset"
            ],
            "pane": "",
            "popup": null,
            "popup_max_height": null,
            "popup_max_width": 300,
            "popup_min_width": 50,
            "show_loading": false,
            "subitems": [],
            "tile_size": 256,
            "tms": false,
            "url": "https://earthengine.googleapis.com/v1/projects/lenkamikova256/maps/8430fe0f84d9163ec541b60eb2d54c25-f35b4832acc26dc19766f94b70558e3c/tiles/{z}/{x}/{y}",
            "visible": true,
            "zoom_offset": 0
          }
        },
        "ddef628410014e3885d7dc6963e1faf8": {
          "model_module": "@jupyter-widgets/base",
          "model_name": "LayoutModel",
          "model_module_version": "1.2.0",
          "state": {
            "_model_module": "@jupyter-widgets/base",
            "_model_module_version": "1.2.0",
            "_model_name": "LayoutModel",
            "_view_count": null,
            "_view_module": "@jupyter-widgets/base",
            "_view_module_version": "1.2.0",
            "_view_name": "LayoutView",
            "align_content": null,
            "align_items": null,
            "align_self": null,
            "border": null,
            "bottom": null,
            "display": null,
            "flex": null,
            "flex_flow": null,
            "grid_area": null,
            "grid_auto_columns": null,
            "grid_auto_flow": null,
            "grid_auto_rows": null,
            "grid_column": null,
            "grid_gap": null,
            "grid_row": null,
            "grid_template_areas": null,
            "grid_template_columns": null,
            "grid_template_rows": null,
            "height": "600px",
            "justify_content": null,
            "justify_items": null,
            "left": null,
            "margin": null,
            "max_height": null,
            "max_width": null,
            "min_height": null,
            "min_width": null,
            "object_fit": null,
            "object_position": null,
            "order": null,
            "overflow": null,
            "overflow_x": null,
            "overflow_y": null,
            "padding": null,
            "right": null,
            "top": null,
            "visibility": null,
            "width": null
          }
        },
        "80452cd7e23f40e78c7bf4b982965f17": {
          "model_module": "jupyter-leaflet",
          "model_name": "LeafletMapStyleModel",
          "model_module_version": "^0.18",
          "state": {
            "_model_module": "jupyter-leaflet",
            "_model_module_version": "^0.18",
            "_model_name": "LeafletMapStyleModel",
            "_view_count": null,
            "_view_module": "@jupyter-widgets/base",
            "_view_module_version": "1.2.0",
            "_view_name": "StyleView",
            "cursor": "grab"
          }
        },
        "7d5fc5f008724336bbed4af2590af178": {
          "model_module": "@jupyter-widgets/controls",
          "model_name": "VBoxModel",
          "model_module_version": "1.5.0",
          "state": {
            "_dom_classes": [
              "geemap-colab"
            ],
            "_model_module": "@jupyter-widgets/controls",
            "_model_module_version": "1.5.0",
            "_model_name": "VBoxModel",
            "_view_count": null,
            "_view_module": "@jupyter-widgets/controls",
            "_view_module_version": "1.5.0",
            "_view_name": "VBoxView",
            "box_style": "",
            "children": [
              "IPY_MODEL_02f7df59086846d69bb2385076a17174"
            ],
            "layout": "IPY_MODEL_89adf87f7f32494db93d69b11a7d76fd"
          }
        },
        "02f7df59086846d69bb2385076a17174": {
          "model_module": "@jupyter-widgets/controls",
          "model_name": "ToggleButtonModel",
          "model_module_version": "1.5.0",
          "state": {
            "_dom_classes": [],
            "_model_module": "@jupyter-widgets/controls",
            "_model_module_version": "1.5.0",
            "_model_name": "ToggleButtonModel",
            "_view_count": null,
            "_view_module": "@jupyter-widgets/controls",
            "_view_module_version": "1.5.0",
            "_view_name": "ToggleButtonView",
            "button_style": "",
            "description": "",
            "description_tooltip": null,
            "disabled": false,
            "icon": "wrench",
            "layout": "IPY_MODEL_8905f4634a204a09b4310e64dbe35511",
            "style": "IPY_MODEL_406d63b5912e495da6b734f1c571193e",
            "tooltip": "Toolbar",
            "value": false
          }
        },
        "89adf87f7f32494db93d69b11a7d76fd": {
          "model_module": "@jupyter-widgets/base",
          "model_name": "LayoutModel",
          "model_module_version": "1.2.0",
          "state": {
            "_model_module": "@jupyter-widgets/base",
            "_model_module_version": "1.2.0",
            "_model_name": "LayoutModel",
            "_view_count": null,
            "_view_module": "@jupyter-widgets/base",
            "_view_module_version": "1.2.0",
            "_view_name": "LayoutView",
            "align_content": null,
            "align_items": null,
            "align_self": null,
            "border": null,
            "bottom": null,
            "display": null,
            "flex": null,
            "flex_flow": null,
            "grid_area": null,
            "grid_auto_columns": null,
            "grid_auto_flow": null,
            "grid_auto_rows": null,
            "grid_column": null,
            "grid_gap": null,
            "grid_row": null,
            "grid_template_areas": null,
            "grid_template_columns": null,
            "grid_template_rows": null,
            "height": null,
            "justify_content": null,
            "justify_items": null,
            "left": null,
            "margin": null,
            "max_height": null,
            "max_width": null,
            "min_height": null,
            "min_width": null,
            "object_fit": null,
            "object_position": null,
            "order": null,
            "overflow": null,
            "overflow_x": null,
            "overflow_y": null,
            "padding": null,
            "right": null,
            "top": null,
            "visibility": null,
            "width": null
          }
        },
        "8905f4634a204a09b4310e64dbe35511": {
          "model_module": "@jupyter-widgets/base",
          "model_name": "LayoutModel",
          "model_module_version": "1.2.0",
          "state": {
            "_model_module": "@jupyter-widgets/base",
            "_model_module_version": "1.2.0",
            "_model_name": "LayoutModel",
            "_view_count": null,
            "_view_module": "@jupyter-widgets/base",
            "_view_module_version": "1.2.0",
            "_view_name": "LayoutView",
            "align_content": null,
            "align_items": null,
            "align_self": null,
            "border": null,
            "bottom": null,
            "display": null,
            "flex": null,
            "flex_flow": null,
            "grid_area": null,
            "grid_auto_columns": null,
            "grid_auto_flow": null,
            "grid_auto_rows": null,
            "grid_column": null,
            "grid_gap": null,
            "grid_row": null,
            "grid_template_areas": null,
            "grid_template_columns": null,
            "grid_template_rows": null,
            "height": "28px",
            "justify_content": null,
            "justify_items": null,
            "left": null,
            "margin": null,
            "max_height": null,
            "max_width": null,
            "min_height": null,
            "min_width": null,
            "object_fit": null,
            "object_position": null,
            "order": null,
            "overflow": null,
            "overflow_x": null,
            "overflow_y": null,
            "padding": "0px 0px 0px 4px",
            "right": null,
            "top": null,
            "visibility": null,
            "width": "28px"
          }
        },
        "406d63b5912e495da6b734f1c571193e": {
          "model_module": "@jupyter-widgets/controls",
          "model_name": "DescriptionStyleModel",
          "model_module_version": "1.5.0",
          "state": {
            "_model_module": "@jupyter-widgets/controls",
            "_model_module_version": "1.5.0",
            "_model_name": "DescriptionStyleModel",
            "_view_count": null,
            "_view_module": "@jupyter-widgets/base",
            "_view_module_version": "1.2.0",
            "_view_name": "StyleView",
            "description_width": ""
          }
        },
        "7312d79b5c5d42b485f12fa10225f64c": {
          "model_module": "jupyter-leaflet",
          "model_name": "LeafletMapModel",
          "model_module_version": "^0.18",
          "state": {
            "_dom_classes": [],
            "_model_module": "jupyter-leaflet",
            "_model_module_version": "^0.18",
            "_model_name": "LeafletMapModel",
            "_view_count": null,
            "_view_module": "jupyter-leaflet",
            "_view_module_version": "^0.18",
            "_view_name": "LeafletMapView",
            "bottom": 1851,
            "bounce_at_zoom_limits": true,
            "box_zoom": true,
            "center": [
              40,
              -100
            ],
            "close_popup_on_click": true,
            "controls": [
              "IPY_MODEL_ec945981b4c3417d90f33e8384934d2b",
              "IPY_MODEL_f27b8c0eb0f142b6892385c5ba329267",
              "IPY_MODEL_35a70dcf8b2d46cabf25671c79b13e65",
              "IPY_MODEL_5fe89a4a8cdc40c981643d2cd767d7df",
              "IPY_MODEL_c519b6da95934698a7488d298a3d6ead",
              "IPY_MODEL_b36cf03f56334331a6bc57c7ca44787d"
            ],
            "crs": {
              "name": "EPSG3857",
              "custom": false
            },
            "default_style": "IPY_MODEL_4c4c0091c12640799fd181e68dd71551",
            "double_click_zoom": true,
            "dragging": true,
            "dragging_style": "IPY_MODEL_ca81d020410d4e13ae3ef22c8b394b62",
            "east": -37.44140625000001,
            "fullscreen": false,
            "inertia": true,
            "inertia_deceleration": 3000,
            "inertia_max_speed": 1500,
            "interpolation": "bilinear",
            "keyboard": true,
            "keyboard_pan_offset": 80,
            "keyboard_zoom_offset": 1,
            "layers": [
              "IPY_MODEL_9ea502d3488a41c58137c1b0fc5e5fc9",
              "IPY_MODEL_bb38f920cb1e438fa321869b5b3b0dc2",
              "IPY_MODEL_e8533d1ad0524c9098c7ab07c0bc64b4"
            ],
            "layout": "IPY_MODEL_df7d378dd0dd4d5eb095f2a8eefb4c9c",
            "left": 198,
            "max_zoom": null,
            "min_zoom": null,
            "modisdate": "2024-03-17",
            "north": 57.18390185831188,
            "options": [
              "bounce_at_zoom_limits",
              "box_zoom",
              "center",
              "close_popup_on_click",
              "double_click_zoom",
              "dragging",
              "fullscreen",
              "inertia",
              "inertia_deceleration",
              "inertia_max_speed",
              "interpolation",
              "keyboard",
              "keyboard_pan_offset",
              "keyboard_zoom_offset",
              "max_zoom",
              "min_zoom",
              "prefer_canvas",
              "scroll_wheel_zoom",
              "tap",
              "tap_tolerance",
              "touch_zoom",
              "world_copy_jump",
              "zoom",
              "zoom_animation_threshold",
              "zoom_delta",
              "zoom_snap"
            ],
            "panes": {},
            "prefer_canvas": false,
            "right": 1622,
            "scroll_wheel_zoom": true,
            "south": 17.056784609942554,
            "style": "IPY_MODEL_6e63bdc356fb473ab2bd8134a6ca08e9",
            "tap": true,
            "tap_tolerance": 15,
            "top": 1251,
            "touch_zoom": true,
            "west": -162.59765625000003,
            "window_url": "https://i5t2ydb23uq-496ff2e9c6d22116-0-colab.googleusercontent.com/outputframe.html?vrz=colab_20240315-060118_RC00_616077585",
            "world_copy_jump": false,
            "zoom": 4,
            "zoom_animation_threshold": 4,
            "zoom_delta": 1,
            "zoom_snap": 1
          }
        },
        "ec945981b4c3417d90f33e8384934d2b": {
          "model_module": "jupyter-leaflet",
          "model_name": "LeafletZoomControlModel",
          "model_module_version": "^0.18",
          "state": {
            "_model_module": "jupyter-leaflet",
            "_model_module_version": "^0.18",
            "_model_name": "LeafletZoomControlModel",
            "_view_count": null,
            "_view_module": "jupyter-leaflet",
            "_view_module_version": "^0.18",
            "_view_name": "LeafletZoomControlView",
            "options": [
              "position",
              "zoom_in_text",
              "zoom_in_title",
              "zoom_out_text",
              "zoom_out_title"
            ],
            "position": "topleft",
            "zoom_in_text": "+",
            "zoom_in_title": "Zoom in",
            "zoom_out_text": "-",
            "zoom_out_title": "Zoom out"
          }
        },
        "f27b8c0eb0f142b6892385c5ba329267": {
          "model_module": "jupyter-leaflet",
          "model_name": "LeafletFullScreenControlModel",
          "model_module_version": "^0.18",
          "state": {
            "_model_module": "jupyter-leaflet",
            "_model_module_version": "^0.18",
            "_model_name": "LeafletFullScreenControlModel",
            "_view_count": null,
            "_view_module": "jupyter-leaflet",
            "_view_module_version": "^0.18",
            "_view_name": "LeafletFullScreenControlView",
            "options": [
              "position"
            ],
            "position": "topleft"
          }
        },
        "35a70dcf8b2d46cabf25671c79b13e65": {
          "model_module": "jupyter-leaflet",
          "model_name": "LeafletDrawControlModel",
          "model_module_version": "^0.18",
          "state": {
            "_model_module": "jupyter-leaflet",
            "_model_module_version": "^0.18",
            "_model_name": "LeafletDrawControlModel",
            "_view_count": null,
            "_view_module": "jupyter-leaflet",
            "_view_module_version": "^0.18",
            "_view_name": "LeafletDrawControlView",
            "circle": {},
            "circlemarker": {},
            "data": [],
            "edit": true,
            "marker": {
              "shapeOptions": {
                "color": "#3388ff"
              }
            },
            "options": [
              "position"
            ],
            "polygon": {
              "shapeOptions": {}
            },
            "polyline": {
              "shapeOptions": {}
            },
            "position": "topleft",
            "rectangle": {
              "shapeOptions": {
                "color": "#3388ff"
              }
            },
            "remove": true
          }
        },
        "5fe89a4a8cdc40c981643d2cd767d7df": {
          "model_module": "jupyter-leaflet",
          "model_name": "LeafletScaleControlModel",
          "model_module_version": "^0.18",
          "state": {
            "_model_module": "jupyter-leaflet",
            "_model_module_version": "^0.18",
            "_model_name": "LeafletScaleControlModel",
            "_view_count": null,
            "_view_module": "jupyter-leaflet",
            "_view_module_version": "^0.18",
            "_view_name": "LeafletScaleControlView",
            "imperial": true,
            "max_width": 100,
            "metric": true,
            "options": [
              "imperial",
              "max_width",
              "metric",
              "position",
              "update_when_idle"
            ],
            "position": "bottomleft",
            "update_when_idle": false
          }
        },
        "c519b6da95934698a7488d298a3d6ead": {
          "model_module": "jupyter-leaflet",
          "model_name": "LeafletWidgetControlModel",
          "model_module_version": "^0.18",
          "state": {
            "_model_module": "jupyter-leaflet",
            "_model_module_version": "^0.18",
            "_model_name": "LeafletWidgetControlModel",
            "_view_count": null,
            "_view_module": "jupyter-leaflet",
            "_view_module_version": "^0.18",
            "_view_name": "LeafletWidgetControlView",
            "max_height": null,
            "max_width": null,
            "min_height": null,
            "min_width": null,
            "options": [
              "position",
              "transparent_bg"
            ],
            "position": "topright",
            "transparent_bg": false,
            "widget": "IPY_MODEL_dfab4ba74bb6407080487c34d9abbf81"
          }
        },
        "b36cf03f56334331a6bc57c7ca44787d": {
          "model_module": "jupyter-leaflet",
          "model_name": "LeafletAttributionControlModel",
          "model_module_version": "^0.18",
          "state": {
            "_model_module": "jupyter-leaflet",
            "_model_module_version": "^0.18",
            "_model_name": "LeafletAttributionControlModel",
            "_view_count": null,
            "_view_module": "jupyter-leaflet",
            "_view_module_version": "^0.18",
            "_view_name": "LeafletAttributionControlView",
            "options": [
              "position",
              "prefix"
            ],
            "position": "bottomright",
            "prefix": "ipyleaflet"
          }
        },
        "4c4c0091c12640799fd181e68dd71551": {
          "model_module": "jupyter-leaflet",
          "model_name": "LeafletMapStyleModel",
          "model_module_version": "^0.18",
          "state": {
            "_model_module": "jupyter-leaflet",
            "_model_module_version": "^0.18",
            "_model_name": "LeafletMapStyleModel",
            "_view_count": null,
            "_view_module": "@jupyter-widgets/base",
            "_view_module_version": "1.2.0",
            "_view_name": "StyleView",
            "cursor": "grab"
          }
        },
        "ca81d020410d4e13ae3ef22c8b394b62": {
          "model_module": "jupyter-leaflet",
          "model_name": "LeafletMapStyleModel",
          "model_module_version": "^0.18",
          "state": {
            "_model_module": "jupyter-leaflet",
            "_model_module_version": "^0.18",
            "_model_name": "LeafletMapStyleModel",
            "_view_count": null,
            "_view_module": "@jupyter-widgets/base",
            "_view_module_version": "1.2.0",
            "_view_name": "StyleView",
            "cursor": "move"
          }
        },
        "9ea502d3488a41c58137c1b0fc5e5fc9": {
          "model_module": "jupyter-leaflet",
          "model_name": "LeafletTileLayerModel",
          "model_module_version": "^0.18",
          "state": {
            "_model_module": "jupyter-leaflet",
            "_model_module_version": "^0.18",
            "_model_name": "LeafletTileLayerModel",
            "_view_count": null,
            "_view_module": "jupyter-leaflet",
            "_view_module_version": "^0.18",
            "_view_name": "LeafletTileLayerView",
            "attribution": "&copy; <a href=\"https://www.openstreetmap.org/copyright\">OpenStreetMap</a> contributors",
            "base": true,
            "bottom": true,
            "bounds": null,
            "detect_retina": false,
            "loading": false,
            "max_native_zoom": null,
            "max_zoom": 19,
            "min_native_zoom": null,
            "min_zoom": 1,
            "name": "OpenStreetMap.Mapnik",
            "no_wrap": false,
            "opacity": 1,
            "options": [
              "attribution",
              "bounds",
              "detect_retina",
              "max_native_zoom",
              "max_zoom",
              "min_native_zoom",
              "min_zoom",
              "no_wrap",
              "tile_size",
              "tms",
              "zoom_offset"
            ],
            "pane": "",
            "popup": null,
            "popup_max_height": null,
            "popup_max_width": 300,
            "popup_min_width": 50,
            "show_loading": false,
            "subitems": [],
            "tile_size": 256,
            "tms": false,
            "url": "https://tile.openstreetmap.org/{z}/{x}/{y}.png",
            "visible": true,
            "zoom_offset": 0
          }
        },
        "bb38f920cb1e438fa321869b5b3b0dc2": {
          "model_module": "jupyter-leaflet",
          "model_name": "LeafletTileLayerModel",
          "model_module_version": "^0.18",
          "state": {
            "_model_module": "jupyter-leaflet",
            "_model_module_version": "^0.18",
            "_model_name": "LeafletTileLayerModel",
            "_view_count": null,
            "_view_module": "jupyter-leaflet",
            "_view_module_version": "^0.18",
            "_view_name": "LeafletTileLayerView",
            "attribution": "Google Earth Engine",
            "base": false,
            "bottom": true,
            "bounds": null,
            "detect_retina": false,
            "loading": false,
            "max_native_zoom": null,
            "max_zoom": 24,
            "min_native_zoom": null,
            "min_zoom": 0,
            "name": "Landsat",
            "no_wrap": false,
            "opacity": 1,
            "options": [
              "attribution",
              "bounds",
              "detect_retina",
              "max_native_zoom",
              "max_zoom",
              "min_native_zoom",
              "min_zoom",
              "no_wrap",
              "tile_size",
              "tms",
              "zoom_offset"
            ],
            "pane": "",
            "popup": null,
            "popup_max_height": null,
            "popup_max_width": 300,
            "popup_min_width": 50,
            "show_loading": false,
            "subitems": [],
            "tile_size": 256,
            "tms": false,
            "url": "https://earthengine.googleapis.com/v1/projects/lenkamikova256/maps/11f61d4584df4e8ca52fa68405d44fa2-e92f6da899d2960a446d995f1909abdd/tiles/{z}/{x}/{y}",
            "visible": true,
            "zoom_offset": 0
          }
        },
        "e8533d1ad0524c9098c7ab07c0bc64b4": {
          "model_module": "jupyter-leaflet",
          "model_name": "LeafletTileLayerModel",
          "model_module_version": "^0.18",
          "state": {
            "_model_module": "jupyter-leaflet",
            "_model_module_version": "^0.18",
            "_model_name": "LeafletTileLayerModel",
            "_view_count": null,
            "_view_module": "jupyter-leaflet",
            "_view_module_version": "^0.18",
            "_view_name": "LeafletTileLayerView",
            "attribution": "Google Earth Engine",
            "base": false,
            "bottom": true,
            "bounds": null,
            "detect_retina": false,
            "loading": false,
            "max_native_zoom": null,
            "max_zoom": 24,
            "min_native_zoom": null,
            "min_zoom": 0,
            "name": "Hyperion",
            "no_wrap": false,
            "opacity": 1,
            "options": [
              "attribution",
              "bounds",
              "detect_retina",
              "max_native_zoom",
              "max_zoom",
              "min_native_zoom",
              "min_zoom",
              "no_wrap",
              "tile_size",
              "tms",
              "zoom_offset"
            ],
            "pane": "",
            "popup": null,
            "popup_max_height": null,
            "popup_max_width": 300,
            "popup_min_width": 50,
            "show_loading": false,
            "subitems": [],
            "tile_size": 256,
            "tms": false,
            "url": "https://earthengine.googleapis.com/v1/projects/lenkamikova256/maps/475f5fc1be52e3ee6b3e036afa9b4556-b60fe5343d5035dc8de2eb190a9a702c/tiles/{z}/{x}/{y}",
            "visible": true,
            "zoom_offset": 0
          }
        },
        "df7d378dd0dd4d5eb095f2a8eefb4c9c": {
          "model_module": "@jupyter-widgets/base",
          "model_name": "LayoutModel",
          "model_module_version": "1.2.0",
          "state": {
            "_model_module": "@jupyter-widgets/base",
            "_model_module_version": "1.2.0",
            "_model_name": "LayoutModel",
            "_view_count": null,
            "_view_module": "@jupyter-widgets/base",
            "_view_module_version": "1.2.0",
            "_view_name": "LayoutView",
            "align_content": null,
            "align_items": null,
            "align_self": null,
            "border": null,
            "bottom": null,
            "display": null,
            "flex": null,
            "flex_flow": null,
            "grid_area": null,
            "grid_auto_columns": null,
            "grid_auto_flow": null,
            "grid_auto_rows": null,
            "grid_column": null,
            "grid_gap": null,
            "grid_row": null,
            "grid_template_areas": null,
            "grid_template_columns": null,
            "grid_template_rows": null,
            "height": "600px",
            "justify_content": null,
            "justify_items": null,
            "left": null,
            "margin": null,
            "max_height": null,
            "max_width": null,
            "min_height": null,
            "min_width": null,
            "object_fit": null,
            "object_position": null,
            "order": null,
            "overflow": null,
            "overflow_x": null,
            "overflow_y": null,
            "padding": null,
            "right": null,
            "top": null,
            "visibility": null,
            "width": null
          }
        },
        "6e63bdc356fb473ab2bd8134a6ca08e9": {
          "model_module": "jupyter-leaflet",
          "model_name": "LeafletMapStyleModel",
          "model_module_version": "^0.18",
          "state": {
            "_model_module": "jupyter-leaflet",
            "_model_module_version": "^0.18",
            "_model_name": "LeafletMapStyleModel",
            "_view_count": null,
            "_view_module": "@jupyter-widgets/base",
            "_view_module_version": "1.2.0",
            "_view_name": "StyleView",
            "cursor": "grab"
          }
        },
        "dfab4ba74bb6407080487c34d9abbf81": {
          "model_module": "@jupyter-widgets/controls",
          "model_name": "VBoxModel",
          "model_module_version": "1.5.0",
          "state": {
            "_dom_classes": [
              "geemap-colab"
            ],
            "_model_module": "@jupyter-widgets/controls",
            "_model_module_version": "1.5.0",
            "_model_name": "VBoxModel",
            "_view_count": null,
            "_view_module": "@jupyter-widgets/controls",
            "_view_module_version": "1.5.0",
            "_view_name": "VBoxView",
            "box_style": "",
            "children": [
              "IPY_MODEL_0119a707529f414fb3f27863395ba55b"
            ],
            "layout": "IPY_MODEL_bd885057c3d146bd8d806c2c2bdd473f"
          }
        },
        "0119a707529f414fb3f27863395ba55b": {
          "model_module": "@jupyter-widgets/controls",
          "model_name": "ToggleButtonModel",
          "model_module_version": "1.5.0",
          "state": {
            "_dom_classes": [],
            "_model_module": "@jupyter-widgets/controls",
            "_model_module_version": "1.5.0",
            "_model_name": "ToggleButtonModel",
            "_view_count": null,
            "_view_module": "@jupyter-widgets/controls",
            "_view_module_version": "1.5.0",
            "_view_name": "ToggleButtonView",
            "button_style": "",
            "description": "",
            "description_tooltip": null,
            "disabled": false,
            "icon": "wrench",
            "layout": "IPY_MODEL_89c41f5b01ab419cb553505907cc9e5b",
            "style": "IPY_MODEL_76e70a7d960d46d38caf423e0833be02",
            "tooltip": "Toolbar",
            "value": false
          }
        },
        "bd885057c3d146bd8d806c2c2bdd473f": {
          "model_module": "@jupyter-widgets/base",
          "model_name": "LayoutModel",
          "model_module_version": "1.2.0",
          "state": {
            "_model_module": "@jupyter-widgets/base",
            "_model_module_version": "1.2.0",
            "_model_name": "LayoutModel",
            "_view_count": null,
            "_view_module": "@jupyter-widgets/base",
            "_view_module_version": "1.2.0",
            "_view_name": "LayoutView",
            "align_content": null,
            "align_items": null,
            "align_self": null,
            "border": null,
            "bottom": null,
            "display": null,
            "flex": null,
            "flex_flow": null,
            "grid_area": null,
            "grid_auto_columns": null,
            "grid_auto_flow": null,
            "grid_auto_rows": null,
            "grid_column": null,
            "grid_gap": null,
            "grid_row": null,
            "grid_template_areas": null,
            "grid_template_columns": null,
            "grid_template_rows": null,
            "height": null,
            "justify_content": null,
            "justify_items": null,
            "left": null,
            "margin": null,
            "max_height": null,
            "max_width": null,
            "min_height": null,
            "min_width": null,
            "object_fit": null,
            "object_position": null,
            "order": null,
            "overflow": null,
            "overflow_x": null,
            "overflow_y": null,
            "padding": null,
            "right": null,
            "top": null,
            "visibility": null,
            "width": null
          }
        },
        "89c41f5b01ab419cb553505907cc9e5b": {
          "model_module": "@jupyter-widgets/base",
          "model_name": "LayoutModel",
          "model_module_version": "1.2.0",
          "state": {
            "_model_module": "@jupyter-widgets/base",
            "_model_module_version": "1.2.0",
            "_model_name": "LayoutModel",
            "_view_count": null,
            "_view_module": "@jupyter-widgets/base",
            "_view_module_version": "1.2.0",
            "_view_name": "LayoutView",
            "align_content": null,
            "align_items": null,
            "align_self": null,
            "border": null,
            "bottom": null,
            "display": null,
            "flex": null,
            "flex_flow": null,
            "grid_area": null,
            "grid_auto_columns": null,
            "grid_auto_flow": null,
            "grid_auto_rows": null,
            "grid_column": null,
            "grid_gap": null,
            "grid_row": null,
            "grid_template_areas": null,
            "grid_template_columns": null,
            "grid_template_rows": null,
            "height": "28px",
            "justify_content": null,
            "justify_items": null,
            "left": null,
            "margin": null,
            "max_height": null,
            "max_width": null,
            "min_height": null,
            "min_width": null,
            "object_fit": null,
            "object_position": null,
            "order": null,
            "overflow": null,
            "overflow_x": null,
            "overflow_y": null,
            "padding": "0px 0px 0px 4px",
            "right": null,
            "top": null,
            "visibility": null,
            "width": "28px"
          }
        },
        "76e70a7d960d46d38caf423e0833be02": {
          "model_module": "@jupyter-widgets/controls",
          "model_name": "DescriptionStyleModel",
          "model_module_version": "1.5.0",
          "state": {
            "_model_module": "@jupyter-widgets/controls",
            "_model_module_version": "1.5.0",
            "_model_name": "DescriptionStyleModel",
            "_view_count": null,
            "_view_module": "@jupyter-widgets/base",
            "_view_module_version": "1.2.0",
            "_view_name": "StyleView",
            "description_width": ""
          }
        },
        "353ced2bab1445778d81e6092cb293ed": {
          "model_module": "jupyter-leaflet",
          "model_name": "LeafletMapModel",
          "model_module_version": "^0.18",
          "state": {
            "_dom_classes": [],
            "_model_module": "jupyter-leaflet",
            "_model_module_version": "^0.18",
            "_model_name": "LeafletMapModel",
            "_view_count": null,
            "_view_module": "jupyter-leaflet",
            "_view_module_version": "^0.18",
            "_view_name": "LeafletMapView",
            "bottom": 12166,
            "bounce_at_zoom_limits": true,
            "box_zoom": true,
            "center": [
              44.38669150215206,
              1.7358398437500002
            ],
            "close_popup_on_click": true,
            "controls": [
              "IPY_MODEL_993e91da362f4c0e8ed37d25fb36fca8",
              "IPY_MODEL_d9c29a4aeac947b4b2483c03d1752f52",
              "IPY_MODEL_9fdc55bd49124470a50edfbb82a3e9bc",
              "IPY_MODEL_de8df9895cdf4ef3b064b61b0e20e527",
              "IPY_MODEL_c605b32c126e40f5a27e63dde353de05",
              "IPY_MODEL_6e6e5bd13d654c90bad8a3e9738c9b61"
            ],
            "crs": {
              "name": "EPSG3857",
              "custom": false
            },
            "default_style": "IPY_MODEL_cabbe13e59444adc998a13d55a974abd",
            "double_click_zoom": true,
            "dragging": true,
            "dragging_style": "IPY_MODEL_4ee285627bfe4140aeb052d4529b8dad",
            "east": 9.558105468750002,
            "fullscreen": false,
            "inertia": true,
            "inertia_deceleration": 3000,
            "inertia_max_speed": 1500,
            "interpolation": "bilinear",
            "keyboard": true,
            "keyboard_pan_offset": 80,
            "keyboard_zoom_offset": 1,
            "layers": [
              "IPY_MODEL_c9c30d3f71634109b1c417ca6ce0c333",
              "IPY_MODEL_f835c2ccdab6478288393c74ff0725c6"
            ],
            "layout": "IPY_MODEL_ca0380009f994c629293286811034a32",
            "left": 15830,
            "max_zoom": null,
            "min_zoom": null,
            "modisdate": "2024-03-17",
            "north": 46.694667307773116,
            "options": [
              "bounce_at_zoom_limits",
              "box_zoom",
              "center",
              "close_popup_on_click",
              "double_click_zoom",
              "dragging",
              "fullscreen",
              "inertia",
              "inertia_deceleration",
              "inertia_max_speed",
              "interpolation",
              "keyboard",
              "keyboard_pan_offset",
              "keyboard_zoom_offset",
              "max_zoom",
              "min_zoom",
              "prefer_canvas",
              "scroll_wheel_zoom",
              "tap",
              "tap_tolerance",
              "touch_zoom",
              "world_copy_jump",
              "zoom",
              "zoom_animation_threshold",
              "zoom_delta",
              "zoom_snap"
            ],
            "panes": {},
            "prefer_canvas": false,
            "right": 17254,
            "scroll_wheel_zoom": true,
            "south": 41.983994270935625,
            "style": "IPY_MODEL_cabbe13e59444adc998a13d55a974abd",
            "tap": true,
            "tap_tolerance": 15,
            "top": 11566,
            "touch_zoom": true,
            "west": -6.08642578125,
            "window_url": "https://i5t2ydb23uq-496ff2e9c6d22116-0-colab.googleusercontent.com/outputframe.html?vrz=colab_20240315-060118_RC00_616077585",
            "world_copy_jump": false,
            "zoom": 7,
            "zoom_animation_threshold": 4,
            "zoom_delta": 1,
            "zoom_snap": 1
          }
        },
        "993e91da362f4c0e8ed37d25fb36fca8": {
          "model_module": "jupyter-leaflet",
          "model_name": "LeafletZoomControlModel",
          "model_module_version": "^0.18",
          "state": {
            "_model_module": "jupyter-leaflet",
            "_model_module_version": "^0.18",
            "_model_name": "LeafletZoomControlModel",
            "_view_count": null,
            "_view_module": "jupyter-leaflet",
            "_view_module_version": "^0.18",
            "_view_name": "LeafletZoomControlView",
            "options": [
              "position",
              "zoom_in_text",
              "zoom_in_title",
              "zoom_out_text",
              "zoom_out_title"
            ],
            "position": "topleft",
            "zoom_in_text": "+",
            "zoom_in_title": "Zoom in",
            "zoom_out_text": "-",
            "zoom_out_title": "Zoom out"
          }
        },
        "d9c29a4aeac947b4b2483c03d1752f52": {
          "model_module": "jupyter-leaflet",
          "model_name": "LeafletFullScreenControlModel",
          "model_module_version": "^0.18",
          "state": {
            "_model_module": "jupyter-leaflet",
            "_model_module_version": "^0.18",
            "_model_name": "LeafletFullScreenControlModel",
            "_view_count": null,
            "_view_module": "jupyter-leaflet",
            "_view_module_version": "^0.18",
            "_view_name": "LeafletFullScreenControlView",
            "options": [
              "position"
            ],
            "position": "topleft"
          }
        },
        "9fdc55bd49124470a50edfbb82a3e9bc": {
          "model_module": "jupyter-leaflet",
          "model_name": "LeafletDrawControlModel",
          "model_module_version": "^0.18",
          "state": {
            "_model_module": "jupyter-leaflet",
            "_model_module_version": "^0.18",
            "_model_name": "LeafletDrawControlModel",
            "_view_count": null,
            "_view_module": "jupyter-leaflet",
            "_view_module_version": "^0.18",
            "_view_name": "LeafletDrawControlView",
            "circle": {},
            "circlemarker": {},
            "data": [],
            "edit": true,
            "marker": {
              "shapeOptions": {
                "color": "#3388ff"
              }
            },
            "options": [
              "position"
            ],
            "polygon": {
              "shapeOptions": {}
            },
            "polyline": {
              "shapeOptions": {}
            },
            "position": "topleft",
            "rectangle": {
              "shapeOptions": {
                "color": "#3388ff"
              }
            },
            "remove": true
          }
        },
        "de8df9895cdf4ef3b064b61b0e20e527": {
          "model_module": "jupyter-leaflet",
          "model_name": "LeafletScaleControlModel",
          "model_module_version": "^0.18",
          "state": {
            "_model_module": "jupyter-leaflet",
            "_model_module_version": "^0.18",
            "_model_name": "LeafletScaleControlModel",
            "_view_count": null,
            "_view_module": "jupyter-leaflet",
            "_view_module_version": "^0.18",
            "_view_name": "LeafletScaleControlView",
            "imperial": true,
            "max_width": 100,
            "metric": true,
            "options": [
              "imperial",
              "max_width",
              "metric",
              "position",
              "update_when_idle"
            ],
            "position": "bottomleft",
            "update_when_idle": false
          }
        },
        "c605b32c126e40f5a27e63dde353de05": {
          "model_module": "jupyter-leaflet",
          "model_name": "LeafletWidgetControlModel",
          "model_module_version": "^0.18",
          "state": {
            "_model_module": "jupyter-leaflet",
            "_model_module_version": "^0.18",
            "_model_name": "LeafletWidgetControlModel",
            "_view_count": null,
            "_view_module": "jupyter-leaflet",
            "_view_module_version": "^0.18",
            "_view_name": "LeafletWidgetControlView",
            "max_height": null,
            "max_width": null,
            "min_height": null,
            "min_width": null,
            "options": [
              "position",
              "transparent_bg"
            ],
            "position": "topright",
            "transparent_bg": false,
            "widget": "IPY_MODEL_f7c474ee87be4586b958ec1f9cd180b1"
          }
        },
        "6e6e5bd13d654c90bad8a3e9738c9b61": {
          "model_module": "jupyter-leaflet",
          "model_name": "LeafletAttributionControlModel",
          "model_module_version": "^0.18",
          "state": {
            "_model_module": "jupyter-leaflet",
            "_model_module_version": "^0.18",
            "_model_name": "LeafletAttributionControlModel",
            "_view_count": null,
            "_view_module": "jupyter-leaflet",
            "_view_module_version": "^0.18",
            "_view_name": "LeafletAttributionControlView",
            "options": [
              "position",
              "prefix"
            ],
            "position": "bottomright",
            "prefix": "ipyleaflet"
          }
        },
        "cabbe13e59444adc998a13d55a974abd": {
          "model_module": "jupyter-leaflet",
          "model_name": "LeafletMapStyleModel",
          "model_module_version": "^0.18",
          "state": {
            "_model_module": "jupyter-leaflet",
            "_model_module_version": "^0.18",
            "_model_name": "LeafletMapStyleModel",
            "_view_count": null,
            "_view_module": "@jupyter-widgets/base",
            "_view_module_version": "1.2.0",
            "_view_name": "StyleView",
            "cursor": "grab"
          }
        },
        "4ee285627bfe4140aeb052d4529b8dad": {
          "model_module": "jupyter-leaflet",
          "model_name": "LeafletMapStyleModel",
          "model_module_version": "^0.18",
          "state": {
            "_model_module": "jupyter-leaflet",
            "_model_module_version": "^0.18",
            "_model_name": "LeafletMapStyleModel",
            "_view_count": null,
            "_view_module": "@jupyter-widgets/base",
            "_view_module_version": "1.2.0",
            "_view_name": "StyleView",
            "cursor": "move"
          }
        },
        "c9c30d3f71634109b1c417ca6ce0c333": {
          "model_module": "jupyter-leaflet",
          "model_name": "LeafletTileLayerModel",
          "model_module_version": "^0.18",
          "state": {
            "_model_module": "jupyter-leaflet",
            "_model_module_version": "^0.18",
            "_model_name": "LeafletTileLayerModel",
            "_view_count": null,
            "_view_module": "jupyter-leaflet",
            "_view_module_version": "^0.18",
            "_view_name": "LeafletTileLayerView",
            "attribution": "&copy; <a href=\"https://www.openstreetmap.org/copyright\">OpenStreetMap</a> contributors",
            "base": true,
            "bottom": true,
            "bounds": null,
            "detect_retina": false,
            "loading": false,
            "max_native_zoom": null,
            "max_zoom": 19,
            "min_native_zoom": null,
            "min_zoom": 1,
            "name": "OpenStreetMap.Mapnik",
            "no_wrap": false,
            "opacity": 1,
            "options": [
              "attribution",
              "bounds",
              "detect_retina",
              "max_native_zoom",
              "max_zoom",
              "min_native_zoom",
              "min_zoom",
              "no_wrap",
              "tile_size",
              "tms",
              "zoom_offset"
            ],
            "pane": "",
            "popup": null,
            "popup_max_height": null,
            "popup_max_width": 300,
            "popup_min_width": 50,
            "show_loading": false,
            "subitems": [],
            "tile_size": 256,
            "tms": false,
            "url": "https://tile.openstreetmap.org/{z}/{x}/{y}.png",
            "visible": true,
            "zoom_offset": 0
          }
        },
        "f835c2ccdab6478288393c74ff0725c6": {
          "model_module": "jupyter-leaflet",
          "model_name": "LeafletTileLayerModel",
          "model_module_version": "^0.18",
          "state": {
            "_model_module": "jupyter-leaflet",
            "_model_module_version": "^0.18",
            "_model_name": "LeafletTileLayerModel",
            "_view_count": null,
            "_view_module": "jupyter-leaflet",
            "_view_module_version": "^0.18",
            "_view_name": "LeafletTileLayerView",
            "attribution": "Google Earth Engine",
            "base": false,
            "bottom": true,
            "bounds": null,
            "detect_retina": false,
            "loading": false,
            "max_native_zoom": null,
            "max_zoom": 24,
            "min_native_zoom": null,
            "min_zoom": 0,
            "name": "True Color (432)",
            "no_wrap": false,
            "opacity": 1,
            "options": [
              "attribution",
              "bounds",
              "detect_retina",
              "max_native_zoom",
              "max_zoom",
              "min_native_zoom",
              "min_zoom",
              "no_wrap",
              "tile_size",
              "tms",
              "zoom_offset"
            ],
            "pane": "",
            "popup": null,
            "popup_max_height": null,
            "popup_max_width": 300,
            "popup_min_width": 50,
            "show_loading": false,
            "subitems": [],
            "tile_size": 256,
            "tms": false,
            "url": "https://earthengine.googleapis.com/v1/projects/lenkamikova256/maps/dc52dd5fde12adc35594609d1fdf53ac-a66b2876d21abb68113b6343c9505c54/tiles/{z}/{x}/{y}",
            "visible": true,
            "zoom_offset": 0
          }
        },
        "ca0380009f994c629293286811034a32": {
          "model_module": "@jupyter-widgets/base",
          "model_name": "LayoutModel",
          "model_module_version": "1.2.0",
          "state": {
            "_model_module": "@jupyter-widgets/base",
            "_model_module_version": "1.2.0",
            "_model_name": "LayoutModel",
            "_view_count": null,
            "_view_module": "@jupyter-widgets/base",
            "_view_module_version": "1.2.0",
            "_view_name": "LayoutView",
            "align_content": null,
            "align_items": null,
            "align_self": null,
            "border": null,
            "bottom": null,
            "display": null,
            "flex": null,
            "flex_flow": null,
            "grid_area": null,
            "grid_auto_columns": null,
            "grid_auto_flow": null,
            "grid_auto_rows": null,
            "grid_column": null,
            "grid_gap": null,
            "grid_row": null,
            "grid_template_areas": null,
            "grid_template_columns": null,
            "grid_template_rows": null,
            "height": "600px",
            "justify_content": null,
            "justify_items": null,
            "left": null,
            "margin": null,
            "max_height": null,
            "max_width": null,
            "min_height": null,
            "min_width": null,
            "object_fit": null,
            "object_position": null,
            "order": null,
            "overflow": null,
            "overflow_x": null,
            "overflow_y": null,
            "padding": null,
            "right": null,
            "top": null,
            "visibility": null,
            "width": null
          }
        },
        "d7fd1cd1c66343e8910af2406bf4b766": {
          "model_module": "jupyter-leaflet",
          "model_name": "LeafletMapStyleModel",
          "model_module_version": "^0.18",
          "state": {
            "_model_module": "jupyter-leaflet",
            "_model_module_version": "^0.18",
            "_model_name": "LeafletMapStyleModel",
            "_view_count": null,
            "_view_module": "@jupyter-widgets/base",
            "_view_module_version": "1.2.0",
            "_view_name": "StyleView",
            "cursor": "grab"
          }
        },
        "f7c474ee87be4586b958ec1f9cd180b1": {
          "model_module": "@jupyter-widgets/controls",
          "model_name": "VBoxModel",
          "model_module_version": "1.5.0",
          "state": {
            "_dom_classes": [
              "geemap-colab"
            ],
            "_model_module": "@jupyter-widgets/controls",
            "_model_module_version": "1.5.0",
            "_model_name": "VBoxModel",
            "_view_count": null,
            "_view_module": "@jupyter-widgets/controls",
            "_view_module_version": "1.5.0",
            "_view_name": "VBoxView",
            "box_style": "",
            "children": [
              "IPY_MODEL_a53bb70b7b0540728852e386664a9f45"
            ],
            "layout": "IPY_MODEL_6aa4e254cd754981ad4d978138f98bab"
          }
        },
        "a53bb70b7b0540728852e386664a9f45": {
          "model_module": "@jupyter-widgets/controls",
          "model_name": "ToggleButtonModel",
          "model_module_version": "1.5.0",
          "state": {
            "_dom_classes": [],
            "_model_module": "@jupyter-widgets/controls",
            "_model_module_version": "1.5.0",
            "_model_name": "ToggleButtonModel",
            "_view_count": null,
            "_view_module": "@jupyter-widgets/controls",
            "_view_module_version": "1.5.0",
            "_view_name": "ToggleButtonView",
            "button_style": "",
            "description": "",
            "description_tooltip": null,
            "disabled": false,
            "icon": "wrench",
            "layout": "IPY_MODEL_1b5d5dcb9bfe45469a363d9f08369085",
            "style": "IPY_MODEL_c6888ee6649b4614b82793ad13beedd0",
            "tooltip": "Toolbar",
            "value": false
          }
        },
        "6aa4e254cd754981ad4d978138f98bab": {
          "model_module": "@jupyter-widgets/base",
          "model_name": "LayoutModel",
          "model_module_version": "1.2.0",
          "state": {
            "_model_module": "@jupyter-widgets/base",
            "_model_module_version": "1.2.0",
            "_model_name": "LayoutModel",
            "_view_count": null,
            "_view_module": "@jupyter-widgets/base",
            "_view_module_version": "1.2.0",
            "_view_name": "LayoutView",
            "align_content": null,
            "align_items": null,
            "align_self": null,
            "border": null,
            "bottom": null,
            "display": null,
            "flex": null,
            "flex_flow": null,
            "grid_area": null,
            "grid_auto_columns": null,
            "grid_auto_flow": null,
            "grid_auto_rows": null,
            "grid_column": null,
            "grid_gap": null,
            "grid_row": null,
            "grid_template_areas": null,
            "grid_template_columns": null,
            "grid_template_rows": null,
            "height": null,
            "justify_content": null,
            "justify_items": null,
            "left": null,
            "margin": null,
            "max_height": null,
            "max_width": null,
            "min_height": null,
            "min_width": null,
            "object_fit": null,
            "object_position": null,
            "order": null,
            "overflow": null,
            "overflow_x": null,
            "overflow_y": null,
            "padding": null,
            "right": null,
            "top": null,
            "visibility": null,
            "width": null
          }
        },
        "1b5d5dcb9bfe45469a363d9f08369085": {
          "model_module": "@jupyter-widgets/base",
          "model_name": "LayoutModel",
          "model_module_version": "1.2.0",
          "state": {
            "_model_module": "@jupyter-widgets/base",
            "_model_module_version": "1.2.0",
            "_model_name": "LayoutModel",
            "_view_count": null,
            "_view_module": "@jupyter-widgets/base",
            "_view_module_version": "1.2.0",
            "_view_name": "LayoutView",
            "align_content": null,
            "align_items": null,
            "align_self": null,
            "border": null,
            "bottom": null,
            "display": null,
            "flex": null,
            "flex_flow": null,
            "grid_area": null,
            "grid_auto_columns": null,
            "grid_auto_flow": null,
            "grid_auto_rows": null,
            "grid_column": null,
            "grid_gap": null,
            "grid_row": null,
            "grid_template_areas": null,
            "grid_template_columns": null,
            "grid_template_rows": null,
            "height": "28px",
            "justify_content": null,
            "justify_items": null,
            "left": null,
            "margin": null,
            "max_height": null,
            "max_width": null,
            "min_height": null,
            "min_width": null,
            "object_fit": null,
            "object_position": null,
            "order": null,
            "overflow": null,
            "overflow_x": null,
            "overflow_y": null,
            "padding": "0px 0px 0px 4px",
            "right": null,
            "top": null,
            "visibility": null,
            "width": "28px"
          }
        },
        "c6888ee6649b4614b82793ad13beedd0": {
          "model_module": "@jupyter-widgets/controls",
          "model_name": "DescriptionStyleModel",
          "model_module_version": "1.5.0",
          "state": {
            "_model_module": "@jupyter-widgets/controls",
            "_model_module_version": "1.5.0",
            "_model_name": "DescriptionStyleModel",
            "_view_count": null,
            "_view_module": "@jupyter-widgets/base",
            "_view_module_version": "1.2.0",
            "_view_name": "StyleView",
            "description_width": ""
          }
        },
        "e465ac7483eb4f708176e0ac987d9607": {
          "model_module": "jupyter-leaflet",
          "model_name": "LeafletMapModel",
          "model_module_version": "^0.18",
          "state": {
            "_dom_classes": [],
            "_model_module": "jupyter-leaflet",
            "_model_module_version": "^0.18",
            "_model_name": "LeafletMapModel",
            "_view_count": null,
            "_view_module": "jupyter-leaflet",
            "_view_module_version": "^0.18",
            "_view_name": "LeafletMapView",
            "bottom": 22961,
            "bounce_at_zoom_limits": true,
            "box_zoom": true,
            "center": [
              48.441,
              11.962
            ],
            "close_popup_on_click": true,
            "controls": [
              "IPY_MODEL_649d80f14870421db7d39dfd0bbf6f2c",
              "IPY_MODEL_ae4c9c9026b2495fb52cd0def7246048",
              "IPY_MODEL_ff80c150d3f643ecace40e958906f0b5",
              "IPY_MODEL_85c8ee0eb9124c23a6aea315051bae43",
              "IPY_MODEL_cb91057241dc4e21a0475a7926b45aa7",
              "IPY_MODEL_88039cc09f45404fbec889e96a620e6d"
            ],
            "crs": {
              "name": "EPSG3857",
              "custom": false
            },
            "default_style": "IPY_MODEL_a3176877bfb6402c81dc9869713a6ea9",
            "double_click_zoom": true,
            "dragging": true,
            "dragging_style": "IPY_MODEL_2e3cf1a24745496984789711523a79b2",
            "east": 15.875244140625002,
            "fullscreen": false,
            "inertia": true,
            "inertia_deceleration": 3000,
            "inertia_max_speed": 1500,
            "interpolation": "bilinear",
            "keyboard": true,
            "keyboard_pan_offset": 80,
            "keyboard_zoom_offset": 1,
            "layers": [
              "IPY_MODEL_97e03fcbee8e46209b393ad2fd072330",
              "IPY_MODEL_a81bdd62a31b4183bfe196428d613432"
            ],
            "layout": "IPY_MODEL_e2ca9e9c81304679bb4e235afa50c860",
            "left": 34234,
            "max_zoom": null,
            "min_zoom": null,
            "modisdate": "2024-03-17",
            "north": 49.52164252537975,
            "options": [
              "bounce_at_zoom_limits",
              "box_zoom",
              "center",
              "close_popup_on_click",
              "double_click_zoom",
              "dragging",
              "fullscreen",
              "inertia",
              "inertia_deceleration",
              "inertia_max_speed",
              "interpolation",
              "keyboard",
              "keyboard_pan_offset",
              "keyboard_zoom_offset",
              "max_zoom",
              "min_zoom",
              "prefer_canvas",
              "scroll_wheel_zoom",
              "tap",
              "tap_tolerance",
              "touch_zoom",
              "world_copy_jump",
              "zoom",
              "zoom_animation_threshold",
              "zoom_delta",
              "zoom_snap"
            ],
            "panes": {},
            "prefer_canvas": false,
            "right": 35658,
            "scroll_wheel_zoom": true,
            "south": 47.33510005753562,
            "style": "IPY_MODEL_5a7871d3efef40aaa66d6d82ce9f9af8",
            "tap": true,
            "tap_tolerance": 15,
            "top": 22361,
            "touch_zoom": true,
            "west": 8.052978515625002,
            "window_url": "https://i5t2ydb23uq-496ff2e9c6d22116-0-colab.googleusercontent.com/outputframe.html?vrz=colab_20240315-060118_RC00_616077585",
            "world_copy_jump": false,
            "zoom": 8,
            "zoom_animation_threshold": 4,
            "zoom_delta": 1,
            "zoom_snap": 1
          }
        },
        "649d80f14870421db7d39dfd0bbf6f2c": {
          "model_module": "jupyter-leaflet",
          "model_name": "LeafletZoomControlModel",
          "model_module_version": "^0.18",
          "state": {
            "_model_module": "jupyter-leaflet",
            "_model_module_version": "^0.18",
            "_model_name": "LeafletZoomControlModel",
            "_view_count": null,
            "_view_module": "jupyter-leaflet",
            "_view_module_version": "^0.18",
            "_view_name": "LeafletZoomControlView",
            "options": [
              "position",
              "zoom_in_text",
              "zoom_in_title",
              "zoom_out_text",
              "zoom_out_title"
            ],
            "position": "topleft",
            "zoom_in_text": "+",
            "zoom_in_title": "Zoom in",
            "zoom_out_text": "-",
            "zoom_out_title": "Zoom out"
          }
        },
        "ae4c9c9026b2495fb52cd0def7246048": {
          "model_module": "jupyter-leaflet",
          "model_name": "LeafletFullScreenControlModel",
          "model_module_version": "^0.18",
          "state": {
            "_model_module": "jupyter-leaflet",
            "_model_module_version": "^0.18",
            "_model_name": "LeafletFullScreenControlModel",
            "_view_count": null,
            "_view_module": "jupyter-leaflet",
            "_view_module_version": "^0.18",
            "_view_name": "LeafletFullScreenControlView",
            "options": [
              "position"
            ],
            "position": "topleft"
          }
        },
        "ff80c150d3f643ecace40e958906f0b5": {
          "model_module": "jupyter-leaflet",
          "model_name": "LeafletDrawControlModel",
          "model_module_version": "^0.18",
          "state": {
            "_model_module": "jupyter-leaflet",
            "_model_module_version": "^0.18",
            "_model_name": "LeafletDrawControlModel",
            "_view_count": null,
            "_view_module": "jupyter-leaflet",
            "_view_module_version": "^0.18",
            "_view_name": "LeafletDrawControlView",
            "circle": {},
            "circlemarker": {},
            "data": [],
            "edit": true,
            "marker": {
              "shapeOptions": {
                "color": "#3388ff"
              }
            },
            "options": [
              "position"
            ],
            "polygon": {
              "shapeOptions": {}
            },
            "polyline": {
              "shapeOptions": {}
            },
            "position": "topleft",
            "rectangle": {
              "shapeOptions": {
                "color": "#3388ff"
              }
            },
            "remove": true
          }
        },
        "85c8ee0eb9124c23a6aea315051bae43": {
          "model_module": "jupyter-leaflet",
          "model_name": "LeafletScaleControlModel",
          "model_module_version": "^0.18",
          "state": {
            "_model_module": "jupyter-leaflet",
            "_model_module_version": "^0.18",
            "_model_name": "LeafletScaleControlModel",
            "_view_count": null,
            "_view_module": "jupyter-leaflet",
            "_view_module_version": "^0.18",
            "_view_name": "LeafletScaleControlView",
            "imperial": true,
            "max_width": 100,
            "metric": true,
            "options": [
              "imperial",
              "max_width",
              "metric",
              "position",
              "update_when_idle"
            ],
            "position": "bottomleft",
            "update_when_idle": false
          }
        },
        "cb91057241dc4e21a0475a7926b45aa7": {
          "model_module": "jupyter-leaflet",
          "model_name": "LeafletWidgetControlModel",
          "model_module_version": "^0.18",
          "state": {
            "_model_module": "jupyter-leaflet",
            "_model_module_version": "^0.18",
            "_model_name": "LeafletWidgetControlModel",
            "_view_count": null,
            "_view_module": "jupyter-leaflet",
            "_view_module_version": "^0.18",
            "_view_name": "LeafletWidgetControlView",
            "max_height": null,
            "max_width": null,
            "min_height": null,
            "min_width": null,
            "options": [
              "position",
              "transparent_bg"
            ],
            "position": "topright",
            "transparent_bg": false,
            "widget": "IPY_MODEL_016f628d516e4b8e8d63fdc17dd3b262"
          }
        },
        "88039cc09f45404fbec889e96a620e6d": {
          "model_module": "jupyter-leaflet",
          "model_name": "LeafletAttributionControlModel",
          "model_module_version": "^0.18",
          "state": {
            "_model_module": "jupyter-leaflet",
            "_model_module_version": "^0.18",
            "_model_name": "LeafletAttributionControlModel",
            "_view_count": null,
            "_view_module": "jupyter-leaflet",
            "_view_module_version": "^0.18",
            "_view_name": "LeafletAttributionControlView",
            "options": [
              "position",
              "prefix"
            ],
            "position": "bottomright",
            "prefix": "ipyleaflet"
          }
        },
        "a3176877bfb6402c81dc9869713a6ea9": {
          "model_module": "jupyter-leaflet",
          "model_name": "LeafletMapStyleModel",
          "model_module_version": "^0.18",
          "state": {
            "_model_module": "jupyter-leaflet",
            "_model_module_version": "^0.18",
            "_model_name": "LeafletMapStyleModel",
            "_view_count": null,
            "_view_module": "@jupyter-widgets/base",
            "_view_module_version": "1.2.0",
            "_view_name": "StyleView",
            "cursor": "grab"
          }
        },
        "2e3cf1a24745496984789711523a79b2": {
          "model_module": "jupyter-leaflet",
          "model_name": "LeafletMapStyleModel",
          "model_module_version": "^0.18",
          "state": {
            "_model_module": "jupyter-leaflet",
            "_model_module_version": "^0.18",
            "_model_name": "LeafletMapStyleModel",
            "_view_count": null,
            "_view_module": "@jupyter-widgets/base",
            "_view_module_version": "1.2.0",
            "_view_name": "StyleView",
            "cursor": "move"
          }
        },
        "97e03fcbee8e46209b393ad2fd072330": {
          "model_module": "jupyter-leaflet",
          "model_name": "LeafletTileLayerModel",
          "model_module_version": "^0.18",
          "state": {
            "_model_module": "jupyter-leaflet",
            "_model_module_version": "^0.18",
            "_model_name": "LeafletTileLayerModel",
            "_view_count": null,
            "_view_module": "jupyter-leaflet",
            "_view_module_version": "^0.18",
            "_view_name": "LeafletTileLayerView",
            "attribution": "&copy; <a href=\"https://www.openstreetmap.org/copyright\">OpenStreetMap</a> contributors",
            "base": true,
            "bottom": true,
            "bounds": null,
            "detect_retina": false,
            "loading": false,
            "max_native_zoom": null,
            "max_zoom": 19,
            "min_native_zoom": null,
            "min_zoom": 1,
            "name": "OpenStreetMap.Mapnik",
            "no_wrap": false,
            "opacity": 1,
            "options": [
              "attribution",
              "bounds",
              "detect_retina",
              "max_native_zoom",
              "max_zoom",
              "min_native_zoom",
              "min_zoom",
              "no_wrap",
              "tile_size",
              "tms",
              "zoom_offset"
            ],
            "pane": "",
            "popup": null,
            "popup_max_height": null,
            "popup_max_width": 300,
            "popup_min_width": 50,
            "show_loading": false,
            "subitems": [],
            "tile_size": 256,
            "tms": false,
            "url": "https://tile.openstreetmap.org/{z}/{x}/{y}.png",
            "visible": true,
            "zoom_offset": 0
          }
        },
        "a81bdd62a31b4183bfe196428d613432": {
          "model_module": "jupyter-leaflet",
          "model_name": "LeafletTileLayerModel",
          "model_module_version": "^0.18",
          "state": {
            "_model_module": "jupyter-leaflet",
            "_model_module_version": "^0.18",
            "_model_name": "LeafletTileLayerModel",
            "_view_count": null,
            "_view_module": "jupyter-leaflet",
            "_view_module_version": "^0.18",
            "_view_name": "LeafletTileLayerView",
            "attribution": "Google Earth Engine",
            "base": false,
            "bottom": true,
            "bounds": null,
            "detect_retina": false,
            "loading": false,
            "max_native_zoom": null,
            "max_zoom": 24,
            "min_native_zoom": null,
            "min_zoom": 0,
            "name": "Layer 1",
            "no_wrap": false,
            "opacity": 1,
            "options": [
              "attribution",
              "bounds",
              "detect_retina",
              "max_native_zoom",
              "max_zoom",
              "min_native_zoom",
              "min_zoom",
              "no_wrap",
              "tile_size",
              "tms",
              "zoom_offset"
            ],
            "pane": "",
            "popup": null,
            "popup_max_height": null,
            "popup_max_width": 300,
            "popup_min_width": 50,
            "show_loading": false,
            "subitems": [],
            "tile_size": 256,
            "tms": false,
            "url": "https://earthengine.googleapis.com/v1/projects/lenkamikova256/maps/40daa679221b1ded21d5487dfba9416b-acb04bd7c4acf3622f1e4d39f0e31106/tiles/{z}/{x}/{y}",
            "visible": true,
            "zoom_offset": 0
          }
        },
        "e2ca9e9c81304679bb4e235afa50c860": {
          "model_module": "@jupyter-widgets/base",
          "model_name": "LayoutModel",
          "model_module_version": "1.2.0",
          "state": {
            "_model_module": "@jupyter-widgets/base",
            "_model_module_version": "1.2.0",
            "_model_name": "LayoutModel",
            "_view_count": null,
            "_view_module": "@jupyter-widgets/base",
            "_view_module_version": "1.2.0",
            "_view_name": "LayoutView",
            "align_content": null,
            "align_items": null,
            "align_self": null,
            "border": null,
            "bottom": null,
            "display": null,
            "flex": null,
            "flex_flow": null,
            "grid_area": null,
            "grid_auto_columns": null,
            "grid_auto_flow": null,
            "grid_auto_rows": null,
            "grid_column": null,
            "grid_gap": null,
            "grid_row": null,
            "grid_template_areas": null,
            "grid_template_columns": null,
            "grid_template_rows": null,
            "height": "600px",
            "justify_content": null,
            "justify_items": null,
            "left": null,
            "margin": null,
            "max_height": null,
            "max_width": null,
            "min_height": null,
            "min_width": null,
            "object_fit": null,
            "object_position": null,
            "order": null,
            "overflow": null,
            "overflow_x": null,
            "overflow_y": null,
            "padding": null,
            "right": null,
            "top": null,
            "visibility": null,
            "width": null
          }
        },
        "5a7871d3efef40aaa66d6d82ce9f9af8": {
          "model_module": "jupyter-leaflet",
          "model_name": "LeafletMapStyleModel",
          "model_module_version": "^0.18",
          "state": {
            "_model_module": "jupyter-leaflet",
            "_model_module_version": "^0.18",
            "_model_name": "LeafletMapStyleModel",
            "_view_count": null,
            "_view_module": "@jupyter-widgets/base",
            "_view_module_version": "1.2.0",
            "_view_name": "StyleView",
            "cursor": "grab"
          }
        },
        "016f628d516e4b8e8d63fdc17dd3b262": {
          "model_module": "@jupyter-widgets/controls",
          "model_name": "VBoxModel",
          "model_module_version": "1.5.0",
          "state": {
            "_dom_classes": [
              "geemap-colab"
            ],
            "_model_module": "@jupyter-widgets/controls",
            "_model_module_version": "1.5.0",
            "_model_name": "VBoxModel",
            "_view_count": null,
            "_view_module": "@jupyter-widgets/controls",
            "_view_module_version": "1.5.0",
            "_view_name": "VBoxView",
            "box_style": "",
            "children": [
              "IPY_MODEL_e22bb51367f34056ac8faf1afde29a8a"
            ],
            "layout": "IPY_MODEL_ed44ed6953c543e4ac27a78ec72e59d9"
          }
        },
        "e22bb51367f34056ac8faf1afde29a8a": {
          "model_module": "@jupyter-widgets/controls",
          "model_name": "ToggleButtonModel",
          "model_module_version": "1.5.0",
          "state": {
            "_dom_classes": [],
            "_model_module": "@jupyter-widgets/controls",
            "_model_module_version": "1.5.0",
            "_model_name": "ToggleButtonModel",
            "_view_count": null,
            "_view_module": "@jupyter-widgets/controls",
            "_view_module_version": "1.5.0",
            "_view_name": "ToggleButtonView",
            "button_style": "",
            "description": "",
            "description_tooltip": null,
            "disabled": false,
            "icon": "wrench",
            "layout": "IPY_MODEL_de0c4fa7971a4bb09f18022abfa12315",
            "style": "IPY_MODEL_85447f3d370948d1b7392a50e6f44366",
            "tooltip": "Toolbar",
            "value": false
          }
        },
        "ed44ed6953c543e4ac27a78ec72e59d9": {
          "model_module": "@jupyter-widgets/base",
          "model_name": "LayoutModel",
          "model_module_version": "1.2.0",
          "state": {
            "_model_module": "@jupyter-widgets/base",
            "_model_module_version": "1.2.0",
            "_model_name": "LayoutModel",
            "_view_count": null,
            "_view_module": "@jupyter-widgets/base",
            "_view_module_version": "1.2.0",
            "_view_name": "LayoutView",
            "align_content": null,
            "align_items": null,
            "align_self": null,
            "border": null,
            "bottom": null,
            "display": null,
            "flex": null,
            "flex_flow": null,
            "grid_area": null,
            "grid_auto_columns": null,
            "grid_auto_flow": null,
            "grid_auto_rows": null,
            "grid_column": null,
            "grid_gap": null,
            "grid_row": null,
            "grid_template_areas": null,
            "grid_template_columns": null,
            "grid_template_rows": null,
            "height": null,
            "justify_content": null,
            "justify_items": null,
            "left": null,
            "margin": null,
            "max_height": null,
            "max_width": null,
            "min_height": null,
            "min_width": null,
            "object_fit": null,
            "object_position": null,
            "order": null,
            "overflow": null,
            "overflow_x": null,
            "overflow_y": null,
            "padding": null,
            "right": null,
            "top": null,
            "visibility": null,
            "width": null
          }
        },
        "de0c4fa7971a4bb09f18022abfa12315": {
          "model_module": "@jupyter-widgets/base",
          "model_name": "LayoutModel",
          "model_module_version": "1.2.0",
          "state": {
            "_model_module": "@jupyter-widgets/base",
            "_model_module_version": "1.2.0",
            "_model_name": "LayoutModel",
            "_view_count": null,
            "_view_module": "@jupyter-widgets/base",
            "_view_module_version": "1.2.0",
            "_view_name": "LayoutView",
            "align_content": null,
            "align_items": null,
            "align_self": null,
            "border": null,
            "bottom": null,
            "display": null,
            "flex": null,
            "flex_flow": null,
            "grid_area": null,
            "grid_auto_columns": null,
            "grid_auto_flow": null,
            "grid_auto_rows": null,
            "grid_column": null,
            "grid_gap": null,
            "grid_row": null,
            "grid_template_areas": null,
            "grid_template_columns": null,
            "grid_template_rows": null,
            "height": "28px",
            "justify_content": null,
            "justify_items": null,
            "left": null,
            "margin": null,
            "max_height": null,
            "max_width": null,
            "min_height": null,
            "min_width": null,
            "object_fit": null,
            "object_position": null,
            "order": null,
            "overflow": null,
            "overflow_x": null,
            "overflow_y": null,
            "padding": "0px 0px 0px 4px",
            "right": null,
            "top": null,
            "visibility": null,
            "width": "28px"
          }
        },
        "85447f3d370948d1b7392a50e6f44366": {
          "model_module": "@jupyter-widgets/controls",
          "model_name": "DescriptionStyleModel",
          "model_module_version": "1.5.0",
          "state": {
            "_model_module": "@jupyter-widgets/controls",
            "_model_module_version": "1.5.0",
            "_model_name": "DescriptionStyleModel",
            "_view_count": null,
            "_view_module": "@jupyter-widgets/base",
            "_view_module_version": "1.2.0",
            "_view_name": "StyleView",
            "description_width": ""
          }
        },
        "1c790104890f428490a73aa0350ed546": {
          "model_module": "jupyter-leaflet",
          "model_name": "LeafletMapModel",
          "model_module_version": "^0.18",
          "state": {
            "_dom_classes": [],
            "_model_module": "jupyter-leaflet",
            "_model_module_version": "^0.18",
            "_model_name": "LeafletMapModel",
            "_view_count": null,
            "_view_module": "jupyter-leaflet",
            "_view_module_version": "^0.18",
            "_view_name": "LeafletMapView",
            "bottom": 101876,
            "bounce_at_zoom_limits": true,
            "box_zoom": true,
            "center": [
              37.501,
              -122.1899
            ],
            "close_popup_on_click": true,
            "controls": [
              "IPY_MODEL_2aa91d7fdcc44d3e8d61df0668e43592",
              "IPY_MODEL_4834147e4049482e95bf82d8af8bbf1c",
              "IPY_MODEL_b36142ba0df148ac9b7ad2b9a4ec4c40",
              "IPY_MODEL_e377912ced394996a5464e05580a3461",
              "IPY_MODEL_687f4dbd096d43c09403306288edc1a0",
              "IPY_MODEL_c0216d4f6c064a138ebcc2f883ba2766"
            ],
            "crs": {
              "name": "EPSG3857",
              "custom": false
            },
            "default_style": "IPY_MODEL_5719e568f36441658fed15b130d1ee8f",
            "double_click_zoom": true,
            "dragging": true,
            "dragging_style": "IPY_MODEL_5e41d9540c4b4bd38ff8fb6e0a7fc668",
            "east": -121.21215820312501,
            "fullscreen": false,
            "inertia": true,
            "inertia_deceleration": 3000,
            "inertia_max_speed": 1500,
            "interpolation": "bilinear",
            "keyboard": true,
            "keyboard_pan_offset": 80,
            "keyboard_zoom_offset": 1,
            "layers": [
              "IPY_MODEL_98a5387da6d04b6bb6a9da362b911bf2",
              "IPY_MODEL_53e0c06aba5b4f38af1708d85f77aaf3",
              "IPY_MODEL_c94d1e2b0eaa458a8d385b47cf969753"
            ],
            "layout": "IPY_MODEL_5325f6d6c2b8492e88120af92896e9b2",
            "left": 41384,
            "max_zoom": null,
            "min_zoom": null,
            "modisdate": "2024-03-17",
            "north": 37.8271414168374,
            "options": [
              "bounce_at_zoom_limits",
              "box_zoom",
              "center",
              "close_popup_on_click",
              "double_click_zoom",
              "dragging",
              "fullscreen",
              "inertia",
              "inertia_deceleration",
              "inertia_max_speed",
              "interpolation",
              "keyboard",
              "keyboard_pan_offset",
              "keyboard_zoom_offset",
              "max_zoom",
              "min_zoom",
              "prefer_canvas",
              "scroll_wheel_zoom",
              "tap",
              "tap_tolerance",
              "touch_zoom",
              "world_copy_jump",
              "zoom",
              "zoom_animation_threshold",
              "zoom_delta",
              "zoom_snap"
            ],
            "panes": {},
            "prefer_canvas": false,
            "right": 42808,
            "scroll_wheel_zoom": true,
            "south": 37.17344871200958,
            "style": "IPY_MODEL_a5b51df2ae9741739916733db36df256",
            "tap": true,
            "tap_tolerance": 15,
            "top": 101276,
            "touch_zoom": true,
            "west": -123.16772460937501,
            "window_url": "https://i5t2ydb23uq-496ff2e9c6d22116-0-colab.googleusercontent.com/outputframe.html?vrz=colab_20240315-060118_RC00_616077585",
            "world_copy_jump": false,
            "zoom": 10,
            "zoom_animation_threshold": 4,
            "zoom_delta": 1,
            "zoom_snap": 1
          }
        },
        "2aa91d7fdcc44d3e8d61df0668e43592": {
          "model_module": "jupyter-leaflet",
          "model_name": "LeafletZoomControlModel",
          "model_module_version": "^0.18",
          "state": {
            "_model_module": "jupyter-leaflet",
            "_model_module_version": "^0.18",
            "_model_name": "LeafletZoomControlModel",
            "_view_count": null,
            "_view_module": "jupyter-leaflet",
            "_view_module_version": "^0.18",
            "_view_name": "LeafletZoomControlView",
            "options": [
              "position",
              "zoom_in_text",
              "zoom_in_title",
              "zoom_out_text",
              "zoom_out_title"
            ],
            "position": "topleft",
            "zoom_in_text": "+",
            "zoom_in_title": "Zoom in",
            "zoom_out_text": "-",
            "zoom_out_title": "Zoom out"
          }
        },
        "4834147e4049482e95bf82d8af8bbf1c": {
          "model_module": "jupyter-leaflet",
          "model_name": "LeafletFullScreenControlModel",
          "model_module_version": "^0.18",
          "state": {
            "_model_module": "jupyter-leaflet",
            "_model_module_version": "^0.18",
            "_model_name": "LeafletFullScreenControlModel",
            "_view_count": null,
            "_view_module": "jupyter-leaflet",
            "_view_module_version": "^0.18",
            "_view_name": "LeafletFullScreenControlView",
            "options": [
              "position"
            ],
            "position": "topleft"
          }
        },
        "b36142ba0df148ac9b7ad2b9a4ec4c40": {
          "model_module": "jupyter-leaflet",
          "model_name": "LeafletDrawControlModel",
          "model_module_version": "^0.18",
          "state": {
            "_model_module": "jupyter-leaflet",
            "_model_module_version": "^0.18",
            "_model_name": "LeafletDrawControlModel",
            "_view_count": null,
            "_view_module": "jupyter-leaflet",
            "_view_module_version": "^0.18",
            "_view_name": "LeafletDrawControlView",
            "circle": {},
            "circlemarker": {},
            "data": [],
            "edit": true,
            "marker": {
              "shapeOptions": {
                "color": "#3388ff"
              }
            },
            "options": [
              "position"
            ],
            "polygon": {
              "shapeOptions": {}
            },
            "polyline": {
              "shapeOptions": {}
            },
            "position": "topleft",
            "rectangle": {
              "shapeOptions": {
                "color": "#3388ff"
              }
            },
            "remove": true
          }
        },
        "e377912ced394996a5464e05580a3461": {
          "model_module": "jupyter-leaflet",
          "model_name": "LeafletScaleControlModel",
          "model_module_version": "^0.18",
          "state": {
            "_model_module": "jupyter-leaflet",
            "_model_module_version": "^0.18",
            "_model_name": "LeafletScaleControlModel",
            "_view_count": null,
            "_view_module": "jupyter-leaflet",
            "_view_module_version": "^0.18",
            "_view_name": "LeafletScaleControlView",
            "imperial": true,
            "max_width": 100,
            "metric": true,
            "options": [
              "imperial",
              "max_width",
              "metric",
              "position",
              "update_when_idle"
            ],
            "position": "bottomleft",
            "update_when_idle": false
          }
        },
        "687f4dbd096d43c09403306288edc1a0": {
          "model_module": "jupyter-leaflet",
          "model_name": "LeafletWidgetControlModel",
          "model_module_version": "^0.18",
          "state": {
            "_model_module": "jupyter-leaflet",
            "_model_module_version": "^0.18",
            "_model_name": "LeafletWidgetControlModel",
            "_view_count": null,
            "_view_module": "jupyter-leaflet",
            "_view_module_version": "^0.18",
            "_view_name": "LeafletWidgetControlView",
            "max_height": null,
            "max_width": null,
            "min_height": null,
            "min_width": null,
            "options": [
              "position",
              "transparent_bg"
            ],
            "position": "topright",
            "transparent_bg": false,
            "widget": "IPY_MODEL_8be46cc6aef94fafa65123e562a0367d"
          }
        },
        "c0216d4f6c064a138ebcc2f883ba2766": {
          "model_module": "jupyter-leaflet",
          "model_name": "LeafletAttributionControlModel",
          "model_module_version": "^0.18",
          "state": {
            "_model_module": "jupyter-leaflet",
            "_model_module_version": "^0.18",
            "_model_name": "LeafletAttributionControlModel",
            "_view_count": null,
            "_view_module": "jupyter-leaflet",
            "_view_module_version": "^0.18",
            "_view_name": "LeafletAttributionControlView",
            "options": [
              "position",
              "prefix"
            ],
            "position": "bottomright",
            "prefix": "ipyleaflet"
          }
        },
        "5719e568f36441658fed15b130d1ee8f": {
          "model_module": "jupyter-leaflet",
          "model_name": "LeafletMapStyleModel",
          "model_module_version": "^0.18",
          "state": {
            "_model_module": "jupyter-leaflet",
            "_model_module_version": "^0.18",
            "_model_name": "LeafletMapStyleModel",
            "_view_count": null,
            "_view_module": "@jupyter-widgets/base",
            "_view_module_version": "1.2.0",
            "_view_name": "StyleView",
            "cursor": "grab"
          }
        },
        "5e41d9540c4b4bd38ff8fb6e0a7fc668": {
          "model_module": "jupyter-leaflet",
          "model_name": "LeafletMapStyleModel",
          "model_module_version": "^0.18",
          "state": {
            "_model_module": "jupyter-leaflet",
            "_model_module_version": "^0.18",
            "_model_name": "LeafletMapStyleModel",
            "_view_count": null,
            "_view_module": "@jupyter-widgets/base",
            "_view_module_version": "1.2.0",
            "_view_name": "StyleView",
            "cursor": "move"
          }
        },
        "98a5387da6d04b6bb6a9da362b911bf2": {
          "model_module": "jupyter-leaflet",
          "model_name": "LeafletTileLayerModel",
          "model_module_version": "^0.18",
          "state": {
            "_model_module": "jupyter-leaflet",
            "_model_module_version": "^0.18",
            "_model_name": "LeafletTileLayerModel",
            "_view_count": null,
            "_view_module": "jupyter-leaflet",
            "_view_module_version": "^0.18",
            "_view_name": "LeafletTileLayerView",
            "attribution": "&copy; <a href=\"https://www.openstreetmap.org/copyright\">OpenStreetMap</a> contributors",
            "base": true,
            "bottom": true,
            "bounds": null,
            "detect_retina": false,
            "loading": false,
            "max_native_zoom": null,
            "max_zoom": 19,
            "min_native_zoom": null,
            "min_zoom": 1,
            "name": "OpenStreetMap.Mapnik",
            "no_wrap": false,
            "opacity": 1,
            "options": [
              "attribution",
              "bounds",
              "detect_retina",
              "max_native_zoom",
              "max_zoom",
              "min_native_zoom",
              "min_zoom",
              "no_wrap",
              "tile_size",
              "tms",
              "zoom_offset"
            ],
            "pane": "",
            "popup": null,
            "popup_max_height": null,
            "popup_max_width": 300,
            "popup_min_width": 50,
            "show_loading": false,
            "subitems": [],
            "tile_size": 256,
            "tms": false,
            "url": "https://tile.openstreetmap.org/{z}/{x}/{y}.png",
            "visible": true,
            "zoom_offset": 0
          }
        },
        "53e0c06aba5b4f38af1708d85f77aaf3": {
          "model_module": "jupyter-leaflet",
          "model_name": "LeafletTileLayerModel",
          "model_module_version": "^0.18",
          "state": {
            "_model_module": "jupyter-leaflet",
            "_model_module_version": "^0.18",
            "_model_name": "LeafletTileLayerModel",
            "_view_count": null,
            "_view_module": "jupyter-leaflet",
            "_view_module_version": "^0.18",
            "_view_name": "LeafletTileLayerView",
            "attribution": "Google Earth Engine",
            "base": false,
            "bottom": true,
            "bounds": null,
            "detect_retina": false,
            "loading": false,
            "max_native_zoom": null,
            "max_zoom": 24,
            "min_native_zoom": null,
            "min_zoom": 0,
            "name": "image",
            "no_wrap": false,
            "opacity": 1,
            "options": [
              "attribution",
              "bounds",
              "detect_retina",
              "max_native_zoom",
              "max_zoom",
              "min_native_zoom",
              "min_zoom",
              "no_wrap",
              "tile_size",
              "tms",
              "zoom_offset"
            ],
            "pane": "",
            "popup": null,
            "popup_max_height": null,
            "popup_max_width": 300,
            "popup_min_width": 50,
            "show_loading": false,
            "subitems": [],
            "tile_size": 256,
            "tms": false,
            "url": "https://earthengine.googleapis.com/v1/projects/lenkamikova256/maps/870f3b6b9a04198f79c2895f552d993c-aa40939f0f4fa52f80eb6cb7fce2f811/tiles/{z}/{x}/{y}",
            "visible": true,
            "zoom_offset": 0
          }
        },
        "c94d1e2b0eaa458a8d385b47cf969753": {
          "model_module": "jupyter-leaflet",
          "model_name": "LeafletTileLayerModel",
          "model_module_version": "^0.18",
          "state": {
            "_model_module": "jupyter-leaflet",
            "_model_module_version": "^0.18",
            "_model_name": "LeafletTileLayerModel",
            "_view_count": null,
            "_view_module": "jupyter-leaflet",
            "_view_module_version": "^0.18",
            "_view_name": "LeafletTileLayerView",
            "attribution": "Google Earth Engine",
            "base": false,
            "bottom": true,
            "bounds": null,
            "detect_retina": false,
            "loading": false,
            "max_native_zoom": null,
            "max_zoom": 24,
            "min_native_zoom": null,
            "min_zoom": 0,
            "name": "unmixed",
            "no_wrap": false,
            "opacity": 1,
            "options": [
              "attribution",
              "bounds",
              "detect_retina",
              "max_native_zoom",
              "max_zoom",
              "min_native_zoom",
              "min_zoom",
              "no_wrap",
              "tile_size",
              "tms",
              "zoom_offset"
            ],
            "pane": "",
            "popup": null,
            "popup_max_height": null,
            "popup_max_width": 300,
            "popup_min_width": 50,
            "show_loading": false,
            "subitems": [],
            "tile_size": 256,
            "tms": false,
            "url": "https://earthengine.googleapis.com/v1/projects/lenkamikova256/maps/9f161239c273159095f8b031a5de47ca-e71eae95e79761e584d5250902266ddd/tiles/{z}/{x}/{y}",
            "visible": true,
            "zoom_offset": 0
          }
        },
        "5325f6d6c2b8492e88120af92896e9b2": {
          "model_module": "@jupyter-widgets/base",
          "model_name": "LayoutModel",
          "model_module_version": "1.2.0",
          "state": {
            "_model_module": "@jupyter-widgets/base",
            "_model_module_version": "1.2.0",
            "_model_name": "LayoutModel",
            "_view_count": null,
            "_view_module": "@jupyter-widgets/base",
            "_view_module_version": "1.2.0",
            "_view_name": "LayoutView",
            "align_content": null,
            "align_items": null,
            "align_self": null,
            "border": null,
            "bottom": null,
            "display": null,
            "flex": null,
            "flex_flow": null,
            "grid_area": null,
            "grid_auto_columns": null,
            "grid_auto_flow": null,
            "grid_auto_rows": null,
            "grid_column": null,
            "grid_gap": null,
            "grid_row": null,
            "grid_template_areas": null,
            "grid_template_columns": null,
            "grid_template_rows": null,
            "height": "600px",
            "justify_content": null,
            "justify_items": null,
            "left": null,
            "margin": null,
            "max_height": null,
            "max_width": null,
            "min_height": null,
            "min_width": null,
            "object_fit": null,
            "object_position": null,
            "order": null,
            "overflow": null,
            "overflow_x": null,
            "overflow_y": null,
            "padding": null,
            "right": null,
            "top": null,
            "visibility": null,
            "width": null
          }
        },
        "a5b51df2ae9741739916733db36df256": {
          "model_module": "jupyter-leaflet",
          "model_name": "LeafletMapStyleModel",
          "model_module_version": "^0.18",
          "state": {
            "_model_module": "jupyter-leaflet",
            "_model_module_version": "^0.18",
            "_model_name": "LeafletMapStyleModel",
            "_view_count": null,
            "_view_module": "@jupyter-widgets/base",
            "_view_module_version": "1.2.0",
            "_view_name": "StyleView",
            "cursor": "grab"
          }
        },
        "8be46cc6aef94fafa65123e562a0367d": {
          "model_module": "@jupyter-widgets/controls",
          "model_name": "VBoxModel",
          "model_module_version": "1.5.0",
          "state": {
            "_dom_classes": [
              "geemap-colab"
            ],
            "_model_module": "@jupyter-widgets/controls",
            "_model_module_version": "1.5.0",
            "_model_name": "VBoxModel",
            "_view_count": null,
            "_view_module": "@jupyter-widgets/controls",
            "_view_module_version": "1.5.0",
            "_view_name": "VBoxView",
            "box_style": "",
            "children": [
              "IPY_MODEL_b4ba3ae424664cf1b042f54948be2123"
            ],
            "layout": "IPY_MODEL_71a87e69b1ef4a67a70a524cba1aa71f"
          }
        },
        "b4ba3ae424664cf1b042f54948be2123": {
          "model_module": "@jupyter-widgets/controls",
          "model_name": "ToggleButtonModel",
          "model_module_version": "1.5.0",
          "state": {
            "_dom_classes": [],
            "_model_module": "@jupyter-widgets/controls",
            "_model_module_version": "1.5.0",
            "_model_name": "ToggleButtonModel",
            "_view_count": null,
            "_view_module": "@jupyter-widgets/controls",
            "_view_module_version": "1.5.0",
            "_view_name": "ToggleButtonView",
            "button_style": "",
            "description": "",
            "description_tooltip": null,
            "disabled": false,
            "icon": "wrench",
            "layout": "IPY_MODEL_6d2d0cf4f0e14517861f8cdf58339506",
            "style": "IPY_MODEL_0e0cf074c36b46b6bebc3d39c30f8dfc",
            "tooltip": "Toolbar",
            "value": false
          }
        },
        "71a87e69b1ef4a67a70a524cba1aa71f": {
          "model_module": "@jupyter-widgets/base",
          "model_name": "LayoutModel",
          "model_module_version": "1.2.0",
          "state": {
            "_model_module": "@jupyter-widgets/base",
            "_model_module_version": "1.2.0",
            "_model_name": "LayoutModel",
            "_view_count": null,
            "_view_module": "@jupyter-widgets/base",
            "_view_module_version": "1.2.0",
            "_view_name": "LayoutView",
            "align_content": null,
            "align_items": null,
            "align_self": null,
            "border": null,
            "bottom": null,
            "display": null,
            "flex": null,
            "flex_flow": null,
            "grid_area": null,
            "grid_auto_columns": null,
            "grid_auto_flow": null,
            "grid_auto_rows": null,
            "grid_column": null,
            "grid_gap": null,
            "grid_row": null,
            "grid_template_areas": null,
            "grid_template_columns": null,
            "grid_template_rows": null,
            "height": null,
            "justify_content": null,
            "justify_items": null,
            "left": null,
            "margin": null,
            "max_height": null,
            "max_width": null,
            "min_height": null,
            "min_width": null,
            "object_fit": null,
            "object_position": null,
            "order": null,
            "overflow": null,
            "overflow_x": null,
            "overflow_y": null,
            "padding": null,
            "right": null,
            "top": null,
            "visibility": null,
            "width": null
          }
        },
        "6d2d0cf4f0e14517861f8cdf58339506": {
          "model_module": "@jupyter-widgets/base",
          "model_name": "LayoutModel",
          "model_module_version": "1.2.0",
          "state": {
            "_model_module": "@jupyter-widgets/base",
            "_model_module_version": "1.2.0",
            "_model_name": "LayoutModel",
            "_view_count": null,
            "_view_module": "@jupyter-widgets/base",
            "_view_module_version": "1.2.0",
            "_view_name": "LayoutView",
            "align_content": null,
            "align_items": null,
            "align_self": null,
            "border": null,
            "bottom": null,
            "display": null,
            "flex": null,
            "flex_flow": null,
            "grid_area": null,
            "grid_auto_columns": null,
            "grid_auto_flow": null,
            "grid_auto_rows": null,
            "grid_column": null,
            "grid_gap": null,
            "grid_row": null,
            "grid_template_areas": null,
            "grid_template_columns": null,
            "grid_template_rows": null,
            "height": "28px",
            "justify_content": null,
            "justify_items": null,
            "left": null,
            "margin": null,
            "max_height": null,
            "max_width": null,
            "min_height": null,
            "min_width": null,
            "object_fit": null,
            "object_position": null,
            "order": null,
            "overflow": null,
            "overflow_x": null,
            "overflow_y": null,
            "padding": "0px 0px 0px 4px",
            "right": null,
            "top": null,
            "visibility": null,
            "width": "28px"
          }
        },
        "0e0cf074c36b46b6bebc3d39c30f8dfc": {
          "model_module": "@jupyter-widgets/controls",
          "model_name": "DescriptionStyleModel",
          "model_module_version": "1.5.0",
          "state": {
            "_model_module": "@jupyter-widgets/controls",
            "_model_module_version": "1.5.0",
            "_model_name": "DescriptionStyleModel",
            "_view_count": null,
            "_view_module": "@jupyter-widgets/base",
            "_view_module_version": "1.2.0",
            "_view_name": "StyleView",
            "description_width": ""
          }
        }
      }
    }
  },
  "cells": [
    {
      "cell_type": "markdown",
      "metadata": {
        "id": "view-in-github",
        "colab_type": "text"
      },
      "source": [
        "<a href=\"https://colab.research.google.com/github/LenkaMikova/Study/blob/main/GEEmap.ipynb\" target=\"_parent\"><img src=\"https://colab.research.google.com/assets/colab-badge.svg\" alt=\"Open In Colab\"/></a>"
      ]
    },
    {
      "cell_type": "markdown",
      "source": [
        "## GEEmap\n"
      ],
      "metadata": {
        "id": "1Vn7WSZMq9lq"
      }
    },
    {
      "cell_type": "markdown",
      "source": [
        "**GEEmap** je balíček Pythonu určený pro interaktivní analýzu a vizualizaci geoprostorových dat za využití nástroje Google Earth Engine. Podrobněji je celý balíček popsaný na stránce [geemap](https://geemap.org/) či na [GitHub](https://github.com/gee-community/geemap?tab=readme-ov-file). Výhoda tohoto balíčku je, že je možné celý obsah otevřít v různých aplikacích.\n",
        "\n",
        "![GEE_open.PNG](data:image/png;base64,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)"
      ],
      "metadata": {
        "id": "YZEcYq1FqICZ"
      }
    },
    {
      "cell_type": "markdown",
      "source": [
        "Balíček GEE map vyžaduje, aby měl uživatel [GEE](https://earthengine.google.com/) uživatelský účet. Bližší informace jsou popsány v [manuálu k balíčku](https://book.geemap.org/chapters/01_introduction.html#earth-engine-authentication)."
      ],
      "metadata": {
        "id": "Js492yMcPI-w"
      }
    },
    {
      "cell_type": "markdown",
      "source": [
        "## Instalace a import\n",
        "Instalaci je možné provést několika způsoby prostřednictvím:\n",
        "\n",
        "\n",
        "*   [PyPI](https://pypi.org/project/geemap/)\n",
        "*   [Conda-forge](https://anaconda.org/conda-forge/geemap) (nejvíce doporučovaný způsob)\n",
        "*   [GitHub](https://git-scm.com/) za použití Git nebo\n",
        "*   <a href=\"https://colab.research.google.com/github/gee-community/geemap/blob/master/examples/notebooks/00_geemap_colab.ipynb\" target=\"_parent\"><img src=\"https://colab.research.google.com/assets/colab-badge.svg\" alt=\"Colab\"/></a>, kde je již předinstalovaný a pravidelně aktualizovaný\n",
        "\n",
        "\n",
        "\n"
      ],
      "metadata": {
        "id": "pmlg3_PAO__c"
      }
    },
    {
      "cell_type": "markdown",
      "source": [
        "PyPI - spuštění lze provést přímo z konzole (terminálu) za použití uvedeného příkazu"
      ],
      "metadata": {
        "id": "xRJMQZFiSAAA"
      }
    },
    {
      "cell_type": "code",
      "source": [
        "#!pip install -U geemap"
      ],
      "metadata": {
        "id": "q63ZDY-4GGCt"
      },
      "execution_count": null,
      "outputs": []
    },
    {
      "cell_type": "markdown",
      "source": [
        "Conda-forge - vyžaduje předchozí instalaci [Anaconda](https://www.anaconda.com/download) či [Miniconda](https://docs.anaconda.com/free/miniconda). Tento způsob je velice často doporučovaný. Balíček má některé volitelné závislosti, jako jsou [GeoPandas](https://geopandas.org/) a [localtileserver](https://github.com/banesullivan/localtileserver). Volitelně je možné doinstalace rozšíření pro [Notebook Jupyter](https://github.com/ipython-contrib/jupyter_contrib_nbextensions)"
      ],
      "metadata": {
        "id": "YdYN6FPuSID6"
      }
    },
    {
      "cell_type": "code",
      "source": [
        "#conda install geemap -c conda-forge"
      ],
      "metadata": {
        "id": "x-IkbPQwSyZO"
      },
      "execution_count": null,
      "outputs": []
    },
    {
      "cell_type": "markdown",
      "source": [
        "GitHub - spustit lze obdobně jako PyPI prostřednictvím konzole (terminálu) za pomocí následujícího příkazu"
      ],
      "metadata": {
        "id": "4Zr7CqEGSjjj"
      }
    },
    {
      "cell_type": "code",
      "source": [
        "#pip install git+https://github.com/gee-community/geemap"
      ],
      "metadata": {
        "id": "k-RQSoI6SrjG"
      },
      "execution_count": null,
      "outputs": []
    },
    {
      "cell_type": "markdown",
      "source": [
        "Při práci s balíčkem přímo v Colab je balíček <b>Earth Engine Python API</b> již předinstalovaný. Před prvním použitím je třeba provést <u>autentifikaci</u> (propojení s účtem GEE)."
      ],
      "metadata": {
        "id": "QL58eAS-ACxn"
      }
    },
    {
      "cell_type": "code",
      "source": [
        "!pip install earthengine-api\n",
        "# Při problémech s instalací se doporučuje odinstalovat a znovu nainstalovat\n",
        "#!pip uninstall earthengine-api -y"
      ],
      "metadata": {
        "id": "4-zli-UfPcCz",
        "colab": {
          "base_uri": "https://localhost:8080/"
        },
        "outputId": "979918c8-ac6a-480e-a68e-45265e4f1cfc"
      },
      "execution_count": null,
      "outputs": [
        {
          "output_type": "stream",
          "name": "stdout",
          "text": [
            "Requirement already satisfied: earthengine-api in /usr/local/lib/python3.10/dist-packages (0.1.394)\n",
            "Requirement already satisfied: google-cloud-storage in /usr/local/lib/python3.10/dist-packages (from earthengine-api) (2.8.0)\n",
            "Requirement already satisfied: google-api-python-client>=1.12.1 in /usr/local/lib/python3.10/dist-packages (from earthengine-api) (2.84.0)\n",
            "Requirement already satisfied: google-auth>=1.4.1 in /usr/local/lib/python3.10/dist-packages (from earthengine-api) (2.27.0)\n",
            "Requirement already satisfied: google-auth-httplib2>=0.0.3 in /usr/local/lib/python3.10/dist-packages (from earthengine-api) (0.1.1)\n",
            "Requirement already satisfied: httplib2<1dev,>=0.9.2 in /usr/local/lib/python3.10/dist-packages (from earthengine-api) (0.22.0)\n",
            "Requirement already satisfied: requests in /usr/local/lib/python3.10/dist-packages (from earthengine-api) (2.31.0)\n",
            "Requirement already satisfied: google-api-core!=2.0.*,!=2.1.*,!=2.2.*,!=2.3.0,<3.0.0dev,>=1.31.5 in /usr/local/lib/python3.10/dist-packages (from google-api-python-client>=1.12.1->earthengine-api) (2.11.1)\n",
            "Requirement already satisfied: uritemplate<5,>=3.0.1 in /usr/local/lib/python3.10/dist-packages (from google-api-python-client>=1.12.1->earthengine-api) (4.1.1)\n",
            "Requirement already satisfied: cachetools<6.0,>=2.0.0 in /usr/local/lib/python3.10/dist-packages (from google-auth>=1.4.1->earthengine-api) (5.3.3)\n",
            "Requirement already satisfied: pyasn1-modules>=0.2.1 in /usr/local/lib/python3.10/dist-packages (from google-auth>=1.4.1->earthengine-api) (0.3.0)\n",
            "Requirement already satisfied: rsa<5,>=3.1.4 in /usr/local/lib/python3.10/dist-packages (from google-auth>=1.4.1->earthengine-api) (4.9)\n",
            "Requirement already satisfied: pyparsing!=3.0.0,!=3.0.1,!=3.0.2,!=3.0.3,<4,>=2.4.2 in /usr/local/lib/python3.10/dist-packages (from httplib2<1dev,>=0.9.2->earthengine-api) (3.1.2)\n",
            "Requirement already satisfied: google-cloud-core<3.0dev,>=2.3.0 in /usr/local/lib/python3.10/dist-packages (from google-cloud-storage->earthengine-api) (2.3.3)\n",
            "Requirement already satisfied: google-resumable-media>=2.3.2 in /usr/local/lib/python3.10/dist-packages (from google-cloud-storage->earthengine-api) (2.7.0)\n",
            "Requirement already satisfied: charset-normalizer<4,>=2 in /usr/local/lib/python3.10/dist-packages (from requests->earthengine-api) (3.3.2)\n",
            "Requirement already satisfied: idna<4,>=2.5 in /usr/local/lib/python3.10/dist-packages (from requests->earthengine-api) (3.6)\n",
            "Requirement already satisfied: urllib3<3,>=1.21.1 in /usr/local/lib/python3.10/dist-packages (from requests->earthengine-api) (2.0.7)\n",
            "Requirement already satisfied: certifi>=2017.4.17 in /usr/local/lib/python3.10/dist-packages (from requests->earthengine-api) (2024.2.2)\n",
            "Requirement already satisfied: googleapis-common-protos<2.0.dev0,>=1.56.2 in /usr/local/lib/python3.10/dist-packages (from google-api-core!=2.0.*,!=2.1.*,!=2.2.*,!=2.3.0,<3.0.0dev,>=1.31.5->google-api-python-client>=1.12.1->earthengine-api) (1.63.0)\n",
            "Requirement already satisfied: protobuf!=3.20.0,!=3.20.1,!=4.21.0,!=4.21.1,!=4.21.2,!=4.21.3,!=4.21.4,!=4.21.5,<5.0.0.dev0,>=3.19.5 in /usr/local/lib/python3.10/dist-packages (from google-api-core!=2.0.*,!=2.1.*,!=2.2.*,!=2.3.0,<3.0.0dev,>=1.31.5->google-api-python-client>=1.12.1->earthengine-api) (3.20.3)\n",
            "Requirement already satisfied: google-crc32c<2.0dev,>=1.0 in /usr/local/lib/python3.10/dist-packages (from google-resumable-media>=2.3.2->google-cloud-storage->earthengine-api) (1.5.0)\n",
            "Requirement already satisfied: pyasn1<0.6.0,>=0.4.6 in /usr/local/lib/python3.10/dist-packages (from pyasn1-modules>=0.2.1->google-auth>=1.4.1->earthengine-api) (0.5.1)\n"
          ]
        }
      ]
    },
    {
      "cell_type": "markdown",
      "source": [
        "Upgrade balíčku - pouze v případě potřeby"
      ],
      "metadata": {
        "id": "Q44HlMWTStKr"
      }
    },
    {
      "cell_type": "code",
      "source": [
        "#!pip install earthengine-api --upgrade"
      ],
      "metadata": {
        "id": "iaqdejr7P615"
      },
      "execution_count": null,
      "outputs": []
    },
    {
      "cell_type": "markdown",
      "source": [
        "Import ee a následná autentifikace - v případě problémů při autentifikaci pomůže restartovat relaci, případně celý prohlážeč."
      ],
      "metadata": {
        "id": "qyZDRlT0S2jf"
      }
    },
    {
      "cell_type": "code",
      "source": [
        "import ee"
      ],
      "metadata": {
        "id": "NAXTMmhRL0c4"
      },
      "execution_count": null,
      "outputs": []
    },
    {
      "cell_type": "code",
      "source": [
        "ee.Authenticate()"
      ],
      "metadata": {
        "id": "mheTt2pdL1uS",
        "colab": {
          "base_uri": "https://localhost:8080/"
        },
        "outputId": "ea1eef72-0d15-4b43-d421-22f51fe4620f"
      },
      "execution_count": null,
      "outputs": [
        {
          "output_type": "execute_result",
          "data": {
            "text/plain": [
              "True"
            ]
          },
          "metadata": {},
          "execution_count": 8
        }
      ]
    },
    {
      "cell_type": "code",
      "source": [
        "# V pripade nutnosti vymazani tokenu GEE\n",
        "#!rm -rf /root/.config/earthengine/"
      ],
      "metadata": {
        "id": "uiRnaiuBd4nH"
      },
      "execution_count": null,
      "outputs": []
    },
    {
      "cell_type": "code",
      "source": [
        "ee.Initialize(project='lenkamikova256')"
      ],
      "metadata": {
        "colab": {
          "base_uri": "https://localhost:8080/",
          "height": 17
        },
        "id": "jmzMDYZxau6A",
        "outputId": "1e8bb9b4-1029-4962-cfa1-d3f64ae83dae"
      },
      "execution_count": null,
      "outputs": [
        {
          "output_type": "display_data",
          "data": {
            "text/plain": [
              "<IPython.core.display.HTML object>"
            ],
            "text/html": [
              "\n",
              "            <style>\n",
              "                .geemap-dark {\n",
              "                    --jp-widgets-color: white;\n",
              "                    --jp-widgets-label-color: white;\n",
              "                    --jp-ui-font-color1: white;\n",
              "                    --jp-layout-color2: #454545;\n",
              "                    background-color: #383838;\n",
              "                }\n",
              "\n",
              "                .geemap-dark .jupyter-button {\n",
              "                    --jp-layout-color3: #383838;\n",
              "                }\n",
              "\n",
              "                .geemap-colab {\n",
              "                    background-color: var(--colab-primary-surface-color, white);\n",
              "                }\n",
              "\n",
              "                .geemap-colab .jupyter-button {\n",
              "                    --jp-layout-color3: var(--colab-primary-surface-color, white);\n",
              "                }\n",
              "            </style>\n",
              "            "
            ]
          },
          "metadata": {}
        }
      ]
    },
    {
      "cell_type": "code",
      "source": [
        "# GEE map balicek pouze se zakladnimi funkcemi\n",
        "import geemap.core as geemapCore\n",
        "# GEE map se vsemi funkcemi\n",
        "#import geemap"
      ],
      "metadata": {
        "id": "spOWp538KYub"
      },
      "execution_count": null,
      "outputs": []
    },
    {
      "cell_type": "markdown",
      "source": [
        "## Vykreslování\n",
        "Geemap má několik různých vykreslovacích backendů:\n",
        "\n",
        "*    [`ipyleaflet`](https://github.com/jupyter-widgets/ipyleaflet) - `import geemap`,\n",
        "*    [`folium`](https://github.com/python-visualization/folium) - `import geemap.foliumap`,\n",
        "*    [`plotly`](https://plotly.com/) - `import geemap.plotlymap`,\n",
        "*    [`pydeck`](https://deckgl.readthedocs.io/en/latest/) - `import geemap.deck`,\n",
        "*    [`kepler.gl`](https://docs.kepler.gl/docs/keplergl-jupyter) - `import geemap.kepler` a\n",
        "*    [`heremap`](https://github.com/heremaps/here-map-widget-for-jupyter).\n",
        "\n"
      ],
      "metadata": {
        "id": "HPcn9ZOtVmK2"
      }
    },
    {
      "cell_type": "markdown",
      "source": [
        "###Interaktivní mapa"
      ],
      "metadata": {
        "id": "6XgY3AhbfAZM"
      }
    },
    {
      "cell_type": "code",
      "source": [
        "Map1 = geemapCore.Map()\n",
        "Map1"
      ],
      "metadata": {
        "colab": {
          "base_uri": "https://localhost:8080/",
          "height": 621,
          "referenced_widgets": [
            "cd05e158f9864574a951728e69b16692",
            "5952979b2c284e35b7b2f5c1211ab4ce",
            "8082ea3e67534455b7b9083e6dbcd55c",
            "6072d07ebd114748b66109b480a3e22e",
            "68392aa77ecd4a1c92b080e31f2a65cf",
            "924c49e50dea4ebf8fd96421d9c69275",
            "fc210f75d77a42eb81c8428da1410f72",
            "3b6c0b878d9b487eb05def107184740f",
            "5095a16321c6492cb5bfd9ae7615fe17",
            "f87ce0a4041c4e9686a6bc6a0bc2796d",
            "f1810d61cb264ca2a65a84cc0b37fc84",
            "00224e513df84d83bbfd479d93c89fc2",
            "1677a82ea78c4833a4f02b7d5940a498",
            "8d4c3d400d734fd09b88a5f85418d367",
            "a0f5024355d844e88834094a844dc208",
            "ea148ed380114b94b19c9051419cc00a",
            "6304fae33a59482b883b07353d08aba4"
          ]
        },
        "id": "SNfr6e8-LBCF",
        "outputId": "49f791a1-7d13-43b7-cb41-52d609a6f98b"
      },
      "execution_count": null,
      "outputs": [
        {
          "output_type": "display_data",
          "data": {
            "text/plain": [
              "<IPython.core.display.HTML object>"
            ],
            "text/html": [
              "\n",
              "            <style>\n",
              "                .geemap-dark {\n",
              "                    --jp-widgets-color: white;\n",
              "                    --jp-widgets-label-color: white;\n",
              "                    --jp-ui-font-color1: white;\n",
              "                    --jp-layout-color2: #454545;\n",
              "                    background-color: #383838;\n",
              "                }\n",
              "\n",
              "                .geemap-dark .jupyter-button {\n",
              "                    --jp-layout-color3: #383838;\n",
              "                }\n",
              "\n",
              "                .geemap-colab {\n",
              "                    background-color: var(--colab-primary-surface-color, white);\n",
              "                }\n",
              "\n",
              "                .geemap-colab .jupyter-button {\n",
              "                    --jp-layout-color3: var(--colab-primary-surface-color, white);\n",
              "                }\n",
              "            </style>\n",
              "            "
            ]
          },
          "metadata": {}
        },
        {
          "output_type": "display_data",
          "data": {
            "text/plain": [
              "Map(center=[0, 0], controls=(ZoomControl(options=['position', 'zoom_in_text', 'zoom_in_title', 'zoom_out_text'…"
            ],
            "application/vnd.jupyter.widget-view+json": {
              "version_major": 2,
              "version_minor": 0,
              "model_id": "cd05e158f9864574a951728e69b16692"
            }
          },
          "metadata": {
            "application/vnd.jupyter.widget-view+json": {
              "colab": {
                "custom_widget_manager": {
                  "url": "https://ssl.gstatic.com/colaboratory-static/widgets/colab-cdn-widget-manager/2b70e893a8ba7c0f/manager.min.js"
                }
              }
            }
          }
        }
      ]
    },
    {
      "cell_type": "markdown",
      "source": [
        "### Image"
      ],
      "metadata": {
        "id": "bMoY5vrDfN1U"
      }
    },
    {
      "cell_type": "code",
      "source": [
        "# nacteni Image\n",
        "image = ee.Image('USGS/SRTMGL1_003')\n",
        "image"
      ],
      "metadata": {
        "colab": {
          "base_uri": "https://localhost:8080/",
          "height": 173
        },
        "id": "FCWhCpVgfPia",
        "outputId": "c97919fd-c97e-498e-cc57-8cdc99b7caf3"
      },
      "execution_count": null,
      "outputs": [
        {
          "output_type": "display_data",
          "data": {
            "text/plain": [
              "<IPython.core.display.HTML object>"
            ],
            "text/html": [
              "\n",
              "            <style>\n",
              "                .geemap-dark {\n",
              "                    --jp-widgets-color: white;\n",
              "                    --jp-widgets-label-color: white;\n",
              "                    --jp-ui-font-color1: white;\n",
              "                    --jp-layout-color2: #454545;\n",
              "                    background-color: #383838;\n",
              "                }\n",
              "\n",
              "                .geemap-dark .jupyter-button {\n",
              "                    --jp-layout-color3: #383838;\n",
              "                }\n",
              "\n",
              "                .geemap-colab {\n",
              "                    background-color: var(--colab-primary-surface-color, white);\n",
              "                }\n",
              "\n",
              "                .geemap-colab .jupyter-button {\n",
              "                    --jp-layout-color3: var(--colab-primary-surface-color, white);\n",
              "                }\n",
              "            </style>\n",
              "            "
            ]
          },
          "metadata": {}
        },
        {
          "output_type": "execute_result",
          "data": {
            "text/plain": [
              "<ee.image.Image at 0x7bb4ce1d7910>"
            ],
            "text/html": [
              "<div><style>:root {\n",
              "  --font-color-primary: var(--jp-content-font-color0, rgba(0, 0, 0, 1));\n",
              "  --font-color-secondary: var(--jp-content-font-color2, rgba(0, 0, 0, 0.6));\n",
              "  --font-color-accent: rgba(123, 31, 162, 1);\n",
              "  --border-color: var(--jp-border-color2, #e0e0e0);\n",
              "  --background-color: var(--jp-layout-color0, white);\n",
              "  --background-color-row-even: var(--jp-layout-color1, white);\n",
              "  --background-color-row-odd: var(--jp-layout-color2, #eeeeee);\n",
              "}\n",
              "\n",
              "html[theme=\"dark\"],\n",
              "body[data-theme=\"dark\"],\n",
              "body.vscode-dark {\n",
              "  --font-color-primary: rgba(255, 255, 255, 1);\n",
              "  --font-color-secondary: rgba(255, 255, 255, 0.6);\n",
              "  --font-color-accent: rgb(173, 132, 190);\n",
              "  --border-color: #2e2e2e;\n",
              "  --background-color: #111111;\n",
              "  --background-color-row-even: #111111;\n",
              "  --background-color-row-odd: #313131;\n",
              "}\n",
              "\n",
              ".ee {\n",
              "  padding: 1em;\n",
              "  line-height: 1.5em;\n",
              "  min-width: 300px;\n",
              "  max-width: 1200px;\n",
              "  overflow-y: scroll;\n",
              "  max-height: 600px;\n",
              "  border: 1px solid var(--border-color);\n",
              "  font-family: monospace;\n",
              "}\n",
              "\n",
              ".ee li {\n",
              "  list-style-type: none;\n",
              "}\n",
              "\n",
              ".ee ul {\n",
              "  padding-left: 1.5em !important;\n",
              "  margin: 0;\n",
              "}\n",
              "\n",
              ".ee > ul {\n",
              "  padding-left: 0 !important;\n",
              "}\n",
              "\n",
              ".ee-open,\n",
              ".ee-shut {\n",
              "  color: var(--font-color-secondary);\n",
              "  cursor: pointer;\n",
              "  margin: 0;\n",
              "}\n",
              "\n",
              ".ee-open:hover,\n",
              ".ee-shut:hover {\n",
              "  color: var(--font-color-primary);\n",
              "}\n",
              "\n",
              ".ee-k {\n",
              "  color: var(--font-color-accent);\n",
              "  margin-right: 6px;\n",
              "}\n",
              "\n",
              ".ee-v {\n",
              "  color: var(--font-color-primary);\n",
              "}\n",
              "\n",
              ".ee-toggle {\n",
              "  display: none;\n",
              "}\n",
              "\n",
              ".ee-shut + ul {\n",
              "  display: none;\n",
              "}\n",
              "\n",
              ".ee-open + ul {\n",
              "  display: block;\n",
              "}\n",
              "\n",
              ".ee-shut::before {\n",
              "  display: inline-block;\n",
              "  content: \"▼\";\n",
              "  margin-right: 6px;\n",
              "  transform: rotate(-90deg);\n",
              "  transition: transform 0.2s;\n",
              "}\n",
              "\n",
              ".ee-open::before {\n",
              "  transform: rotate(0deg);\n",
              "  display: inline-block;\n",
              "  content: \"▼\";\n",
              "  margin-right: 6px;\n",
              "  transition: transform 0.2s;\n",
              "}\n",
              "</style><div class='ee'><ul><li><label class='ee-shut'>Image USGS/SRTMGL1_003 (1 band)<input type='checkbox' class='ee-toggle'></label><ul><li><span class='ee-k'>type:</span><span class='ee-v'>Image</span></li><li><span class='ee-k'>id:</span><span class='ee-v'>USGS/SRTMGL1_003</span></li><li><span class='ee-k'>version:</span><span class='ee-v'>1641990767055141</span></li><li><label class='ee-shut'>bands: List (1 element)<input type='checkbox' class='ee-toggle'></label><ul><li><label class='ee-shut'>0: \"elevation\", signed int16, EPSG:4326, 1296001x417601 px<input type='checkbox' class='ee-toggle'></label><ul><li><span class='ee-k'>id:</span><span class='ee-v'>elevation</span></li><li><span class='ee-k'>crs:</span><span class='ee-v'>EPSG:4326</span></li><li><label class='ee-shut'>crs_transform: List (6 elements)<input type='checkbox' class='ee-toggle'></label><ul><li><span class='ee-k'>0:</span><span class='ee-v'>0.0002777777777777778</span></li><li><span class='ee-k'>1:</span><span class='ee-v'>0</span></li><li><span class='ee-k'>2:</span><span class='ee-v'>-180.0001388888889</span></li><li><span class='ee-k'>3:</span><span class='ee-v'>0</span></li><li><span class='ee-k'>4:</span><span class='ee-v'>-0.0002777777777777778</span></li><li><span class='ee-k'>5:</span><span class='ee-v'>60.00013888888889</span></li></ul></li><li><label class='ee-shut'>data_type: signed int16<input type='checkbox' class='ee-toggle'></label><ul><li><span class='ee-k'>type:</span><span class='ee-v'>PixelType</span></li><li><span class='ee-k'>max:</span><span class='ee-v'>32767</span></li><li><span class='ee-k'>min:</span><span class='ee-v'>-32768</span></li><li><span class='ee-k'>precision:</span><span class='ee-v'>int</span></li></ul></li><li><label class='ee-shut'>dimensions: [1296001, 417601]<input type='checkbox' class='ee-toggle'></label><ul><li><span class='ee-k'>0:</span><span class='ee-v'>1296001</span></li><li><span class='ee-k'>1:</span><span class='ee-v'>417601</span></li></ul></li></ul></li></ul></li><li><label class='ee-shut'>properties: Object (24 properties)<input type='checkbox' class='ee-toggle'></label><ul><li><label class='ee-shut'>date_range: [950227200000, 951177600000]<input type='checkbox' class='ee-toggle'></label><ul><li><span class='ee-k'>0:</span><span class='ee-v'>950227200000</span></li><li><span class='ee-k'>1:</span><span class='ee-v'>951177600000</span></li></ul></li><li><span class='ee-k'>description:</span><span class='ee-v'><p>The Shuttle Radar Topography Mission (SRTM, see <a href=\"https://onlinelibrary.wiley.com/doi/10.1029/2005RG000183/full\">Farr\n",
              "et al. 2007</a>)\n",
              "digital elevation data is an international research effort that\n",
              "obtained digital elevation models on a near-global scale. This\n",
              "SRTM V3 product (SRTM Plus) is provided by NASA JPL\n",
              "at a resolution of 1 arc-second (approximately 30m).</p><p>This dataset has undergone a void-filling process using open-source data\n",
              "(ASTER GDEM2, GMTED2010, and NED), as opposed to other versions that\n",
              "contain voids or have been void-filled with commercial sources.\n",
              "For more information on the different versions see the\n",
              "<a href=\"https://lpdaac.usgs.gov/documents/13/SRTM_Quick_Guide.pdf\">SRTM Quick Guide</a>.</p><p>Documentation:</p><ul><li><p><a href=\"https://lpdaac.usgs.gov/documents/179/SRTM_User_Guide_V3.pdf\">User&#39;s Guide</a></p></li><li><p><a href=\"https://lpdaac.usgs.gov/documents/13/SRTM_Quick_Guide.pdf\">General Documentation</a></p></li><li><p><a href=\"https://doi.org/10.1029/2005RG000183\">Algorithm Theoretical Basis Document (ATBD)</a></p></li></ul><p><b>Provider: <a href=\"https://cmr.earthdata.nasa.gov/search/concepts/C1000000240-LPDAAC_ECS.html\">NASA / USGS / JPL-Caltech</a></b><br><p><b>Bands</b><table class=\"eecat\"><tr><th scope=\"col\">Name</th><th scope=\"col\">Description</th></tr><tr><td>elevation</td><td><p>Elevation</p></td></tr></table><p><b>Terms of Use</b><br><p>Unless otherwise noted, images and video on JPL public\n",
              "web sites (public sites ending with a jpl.nasa.gov address) may\n",
              "be used for any purpose without prior permission. For more information\n",
              "and exceptions visit the <a href=\"https://www.jpl.nasa.gov/imagepolicy/\">JPL Image Use Policy site</a>.</p><p><b>Suggested citation(s)</b><ul><li><p>Farr, T.G., Rosen, P.A., Caro, E., Crippen, R., Duren, R., Hensley,\n",
              "S., Kobrick, M., Paller, M., Rodriguez, E., Roth, L., Seal, D.,\n",
              "Shaffer, S., Shimada, J., Umland, J., Werner, M., Oskin, M., Burbank,\n",
              "D., and Alsdorf, D.E., 2007, The shuttle radar topography mission:\n",
              "Reviews of Geophysics, v. 45, no. 2, RG2004, at\n",
              "<a href=\"https://doi.org/10.1029/2005RG000183\">https://doi.org/10.1029/2005RG000183</a>.</p></li></ul><style>\n",
              "  table.eecat {\n",
              "  border: 1px solid black;\n",
              "  border-collapse: collapse;\n",
              "  font-size: 13px;\n",
              "  }\n",
              "  table.eecat td, tr, th {\n",
              "  text-align: left; vertical-align: top;\n",
              "  border: 1px solid gray; padding: 3px;\n",
              "  }\n",
              "  td.nobreak { white-space: nowrap; }\n",
              "</style></span></li><li><label class='ee-shut'>keywords: List (7 elements)<input type='checkbox' class='ee-toggle'></label><ul><li><span class='ee-k'>0:</span><span class='ee-v'>dem</span></li><li><span class='ee-k'>1:</span><span class='ee-v'>elevation</span></li><li><span class='ee-k'>2:</span><span class='ee-v'>geophysical</span></li><li><span class='ee-k'>3:</span><span class='ee-v'>nasa</span></li><li><span class='ee-k'>4:</span><span class='ee-v'>srtm</span></li><li><span class='ee-k'>5:</span><span class='ee-v'>topography</span></li><li><span class='ee-k'>6:</span><span class='ee-v'>usgs</span></li></ul></li><li><span class='ee-k'>period:</span><span class='ee-v'>0</span></li><li><label class='ee-shut'>product_tags: List (5 elements)<input type='checkbox' class='ee-toggle'></label><ul><li><span class='ee-k'>0:</span><span class='ee-v'>srtm</span></li><li><span class='ee-k'>1:</span><span class='ee-v'>elevation</span></li><li><span class='ee-k'>2:</span><span class='ee-v'>topography</span></li><li><span class='ee-k'>3:</span><span class='ee-v'>dem</span></li><li><span class='ee-k'>4:</span><span class='ee-v'>geophysical</span></li></ul></li><li><span class='ee-k'>provider:</span><span class='ee-v'>NASA / USGS / JPL-Caltech</span></li><li><span class='ee-k'>provider_url:</span><span class='ee-v'>https://cmr.earthdata.nasa.gov/search/concepts/C1000000240-LPDAAC_ECS.html</span></li><li><span class='ee-k'>sample:</span><span class='ee-v'>https://mw1.google.com/ges/dd/images/SRTM90_V4_sample.png</span></li><li><label class='ee-shut'>source_tags: ['nasa', 'usgs']<input type='checkbox' class='ee-toggle'></label><ul><li><span class='ee-k'>0:</span><span class='ee-v'>nasa</span></li><li><span class='ee-k'>1:</span><span class='ee-v'>usgs</span></li></ul></li><li><span class='ee-k'>system:asset_size:</span><span class='ee-v'>132792638252</span></li><li><span class='ee-k'>system:visualization_0_bands:</span><span class='ee-v'>elevation</span></li><li><span class='ee-k'>system:visualization_0_gamma:</span><span class='ee-v'>1.6</span></li><li><span class='ee-k'>system:visualization_0_max:</span><span class='ee-v'>6000.0</span></li><li><span class='ee-k'>system:visualization_0_min:</span><span class='ee-v'>0.0</span></li><li><span class='ee-k'>system:visualization_0_name:</span><span class='ee-v'>Elevation</span></li><li><label class='ee-shut'>tags: List (7 elements)<input type='checkbox' class='ee-toggle'></label><ul><li><span class='ee-k'>0:</span><span class='ee-v'>dem</span></li><li><span class='ee-k'>1:</span><span class='ee-v'>elevation</span></li><li><span class='ee-k'>2:</span><span class='ee-v'>geophysical</span></li><li><span class='ee-k'>3:</span><span class='ee-v'>nasa</span></li><li><span class='ee-k'>4:</span><span class='ee-v'>srtm</span></li><li><span class='ee-k'>5:</span><span class='ee-v'>topography</span></li><li><span class='ee-k'>6:</span><span class='ee-v'>usgs</span></li></ul></li><li><span class='ee-k'>thumb:</span><span class='ee-v'>https://mw1.google.com/ges/dd/images/SRTM90_V4_thumb.png</span></li><li><span class='ee-k'>title:</span><span class='ee-v'>NASA SRTM Digital Elevation 30m</span></li><li><span class='ee-k'>type_name:</span><span class='ee-v'>Image</span></li><li><span class='ee-k'>visualization_0_bands:</span><span class='ee-v'>elevation</span></li><li><span class='ee-k'>visualization_0_gamma:</span><span class='ee-v'>1.6</span></li><li><span class='ee-k'>visualization_0_max:</span><span class='ee-v'>6000.0</span></li><li><span class='ee-k'>visualization_0_min:</span><span class='ee-v'>0.0</span></li><li><span class='ee-k'>visualization_0_name:</span><span class='ee-v'>Elevation</span></li></ul></li></ul></li></ul></div><script>function toggleHeader() {\n",
              "    const parent = this.parentElement;\n",
              "    parent.className = parent.className === \"ee-open\" ? \"ee-shut\" : \"ee-open\";\n",
              "}\n",
              "\n",
              "for (let c of document.getElementsByClassName(\"ee-toggle\")) {\n",
              "    c.onclick = toggleHeader;\n",
              "}</script></div>"
            ]
          },
          "metadata": {},
          "execution_count": 20
        }
      ]
    },
    {
      "cell_type": "code",
      "source": [
        "# vykresleni Image\n",
        "\n",
        "Map2 = geemapCore.Map(center=[21.79, 70.87], zoom=3)\n",
        "image = ee.Image('USGS/SRTMGL1_003')\n",
        "vis_params = {\n",
        "    'min': 0,\n",
        "    'max': 6000,\n",
        "    'palette': ['006633', 'E5FFCC', '662A00', 'D8D8D8', 'F5F5F5'],\n",
        "}\n",
        "Map2.addLayer(image, vis_params, 'SRTM')\n",
        "Map2"
      ],
      "metadata": {
        "colab": {
          "base_uri": "https://localhost:8080/",
          "height": 621,
          "referenced_widgets": [
            "518bd7d506234f33ac9f34ff4a5e75a6",
            "216c837424d3495aa63f0bf78b60a5c3",
            "ec44bfd576a849878e600eb7d7bbdb8b",
            "2ac7671779b54df285f09b09c802c2ca",
            "112ea3e3c5ce4eed8e913dad68456c5f",
            "7772aa66ae764b7a92d5f54a3e50f1be",
            "eac2bc39a9804bab98546e10001ed0bf",
            "9ddee15fd4e543b59c6cda2df2a1be4e",
            "10218859ed114859be8e72d7f0f18d89",
            "279a0ba03b454240ab271b2ba33a21c3",
            "85c80099fdf5412c9bc38d80fe5fd313",
            "bba562d990c6411b8822108e6b23d7bb",
            "263084aec0ea4c22b175552b097231c5",
            "d3fc48c05cb54398b4c4d2d1a4ae39dd",
            "68c7cd1de5364a3883f64e26f7f7c9a0",
            "d3384d4164b1409ba51581f0729df698",
            "7211fc78d6154867bd70b4b13c67f117",
            "37345796b7df492fb810749374e61d78"
          ]
        },
        "id": "CcILbyz8gVZC",
        "outputId": "69f25bed-c0b0-47d2-da9b-9650faa4b2ba"
      },
      "execution_count": null,
      "outputs": [
        {
          "output_type": "display_data",
          "data": {
            "text/plain": [
              "<IPython.core.display.HTML object>"
            ],
            "text/html": [
              "\n",
              "            <style>\n",
              "                .geemap-dark {\n",
              "                    --jp-widgets-color: white;\n",
              "                    --jp-widgets-label-color: white;\n",
              "                    --jp-ui-font-color1: white;\n",
              "                    --jp-layout-color2: #454545;\n",
              "                    background-color: #383838;\n",
              "                }\n",
              "\n",
              "                .geemap-dark .jupyter-button {\n",
              "                    --jp-layout-color3: #383838;\n",
              "                }\n",
              "\n",
              "                .geemap-colab {\n",
              "                    background-color: var(--colab-primary-surface-color, white);\n",
              "                }\n",
              "\n",
              "                .geemap-colab .jupyter-button {\n",
              "                    --jp-layout-color3: var(--colab-primary-surface-color, white);\n",
              "                }\n",
              "            </style>\n",
              "            "
            ]
          },
          "metadata": {}
        },
        {
          "output_type": "display_data",
          "data": {
            "text/plain": [
              "Map(center=[21.79, 70.87], controls=(ZoomControl(options=['position', 'zoom_in_text', 'zoom_in_title', 'zoom_o…"
            ],
            "application/vnd.jupyter.widget-view+json": {
              "version_major": 2,
              "version_minor": 0,
              "model_id": "518bd7d506234f33ac9f34ff4a5e75a6"
            }
          },
          "metadata": {
            "application/vnd.jupyter.widget-view+json": {
              "colab": {
                "custom_widget_manager": {
                  "url": "https://ssl.gstatic.com/colaboratory-static/widgets/colab-cdn-widget-manager/2b70e893a8ba7c0f/manager.min.js"
                }
              }
            }
          }
        }
      ]
    },
    {
      "cell_type": "markdown",
      "source": [
        "###Image Collection"
      ],
      "metadata": {
        "id": "JjUgYd2Je4IW"
      }
    },
    {
      "cell_type": "code",
      "source": [
        "Map4 = geemapCore.Map()\n",
        "collection = (\n",
        "    ee.ImageCollection('COPERNICUS/S2_SR')\n",
        "    .filterDate('2021-01-01', '2022-01-01')\n",
        "    .filter(ee.Filter.lt('CLOUDY_PIXEL_PERCENTAGE', 5))\n",
        ")\n",
        "image = collection.median()\n",
        "\n",
        "vis = {\n",
        "    'min': 0.0,\n",
        "    'max': 3000,\n",
        "    'bands': ['B4', 'B3', 'B2'],\n",
        "}\n",
        "\n",
        "Map4.setCenter(83.277, 17.7009, 12)\n",
        "Map4.addLayer(image, vis, 'Sentinel-2')\n",
        "Map4"
      ],
      "metadata": {
        "colab": {
          "base_uri": "https://localhost:8080/",
          "height": 621,
          "referenced_widgets": [
            "aac5350abcdb44a4aca778f77df46bf3",
            "579d90a4598e47189a912147d7003323",
            "f6d24e2cb70b441dbca862ad4bb31075",
            "135cb47f81ed4b4880d7969ead5895cc",
            "8b881933e0f84535a6c75ce51cdc0e10",
            "ebed955051e44b3ebed8e5416064f9f0",
            "fe9af9ee8901425b961a151c87337d8d",
            "04dee5ea71314b55b27f05887f5ff20f",
            "e092d28add05475aab57c2aaf1f87823",
            "15efb75554af456e971d570fe3704152",
            "c6df97f8f79247139479e6021c4784e0",
            "ddef628410014e3885d7dc6963e1faf8",
            "80452cd7e23f40e78c7bf4b982965f17",
            "7d5fc5f008724336bbed4af2590af178",
            "02f7df59086846d69bb2385076a17174",
            "89adf87f7f32494db93d69b11a7d76fd",
            "8905f4634a204a09b4310e64dbe35511",
            "406d63b5912e495da6b734f1c571193e"
          ]
        },
        "id": "5dLfZ43MWDR0",
        "outputId": "548c6110-1fcf-4c3a-c53b-6c2cd0bbe447"
      },
      "execution_count": null,
      "outputs": [
        {
          "output_type": "display_data",
          "data": {
            "text/plain": [
              "<IPython.core.display.HTML object>"
            ],
            "text/html": [
              "\n",
              "            <style>\n",
              "                .geemap-dark {\n",
              "                    --jp-widgets-color: white;\n",
              "                    --jp-widgets-label-color: white;\n",
              "                    --jp-ui-font-color1: white;\n",
              "                    --jp-layout-color2: #454545;\n",
              "                    background-color: #383838;\n",
              "                }\n",
              "\n",
              "                .geemap-dark .jupyter-button {\n",
              "                    --jp-layout-color3: #383838;\n",
              "                }\n",
              "\n",
              "                .geemap-colab {\n",
              "                    background-color: var(--colab-primary-surface-color, white);\n",
              "                }\n",
              "\n",
              "                .geemap-colab .jupyter-button {\n",
              "                    --jp-layout-color3: var(--colab-primary-surface-color, white);\n",
              "                }\n",
              "            </style>\n",
              "            "
            ]
          },
          "metadata": {}
        },
        {
          "output_type": "display_data",
          "data": {
            "text/plain": [
              "Map(center=[17.7009, 83.277], controls=(ZoomControl(options=['position', 'zoom_in_text', 'zoom_in_title', 'zoo…"
            ],
            "application/vnd.jupyter.widget-view+json": {
              "version_major": 2,
              "version_minor": 0,
              "model_id": "aac5350abcdb44a4aca778f77df46bf3"
            }
          },
          "metadata": {
            "application/vnd.jupyter.widget-view+json": {
              "colab": {
                "custom_widget_manager": {
                  "url": "https://ssl.gstatic.com/colaboratory-static/widgets/colab-cdn-widget-manager/2b70e893a8ba7c0f/manager.min.js"
                }
              }
            }
          }
        }
      ]
    },
    {
      "cell_type": "markdown",
      "source": [
        "### Vizualizace\n",
        "\n"
      ],
      "metadata": {
        "id": "J-wCjfNIiWhB"
      }
    },
    {
      "cell_type": "code",
      "source": [
        "Map5 = geemapCore.Map(center=[40, -100], zoom=4)\n",
        "\n",
        "landsat7 = ee.Image('LANDSAT/LE7_TOA_5YEAR/1999_2003').select(\n",
        "    ['B1', 'B2', 'B3', 'B4', 'B5', 'B7']\n",
        ")\n",
        "\n",
        "landsat_vis = {'bands': ['B4', 'B3', 'B2'], 'gamma': 1.4}\n",
        "Map5.addLayer(landsat7, landsat_vis, \"Landsat\")\n",
        "\n",
        "hyperion = ee.ImageCollection('EO1/HYPERION').filter(\n",
        "    ee.Filter.date('2016-01-01', '2017-03-01')\n",
        ")\n",
        "\n",
        "hyperion_vis = {\n",
        "    'min': 1000.0,\n",
        "    'max': 14000.0,\n",
        "    'gamma': 2.5,\n",
        "}\n",
        "Map5.addLayer(hyperion, hyperion_vis, 'Hyperion')\n",
        "Map5"
      ],
      "metadata": {
        "colab": {
          "base_uri": "https://localhost:8080/",
          "height": 621,
          "referenced_widgets": [
            "7312d79b5c5d42b485f12fa10225f64c",
            "ec945981b4c3417d90f33e8384934d2b",
            "f27b8c0eb0f142b6892385c5ba329267",
            "35a70dcf8b2d46cabf25671c79b13e65",
            "5fe89a4a8cdc40c981643d2cd767d7df",
            "c519b6da95934698a7488d298a3d6ead",
            "b36cf03f56334331a6bc57c7ca44787d",
            "4c4c0091c12640799fd181e68dd71551",
            "ca81d020410d4e13ae3ef22c8b394b62",
            "9ea502d3488a41c58137c1b0fc5e5fc9",
            "bb38f920cb1e438fa321869b5b3b0dc2",
            "e8533d1ad0524c9098c7ab07c0bc64b4",
            "df7d378dd0dd4d5eb095f2a8eefb4c9c",
            "6e63bdc356fb473ab2bd8134a6ca08e9",
            "dfab4ba74bb6407080487c34d9abbf81",
            "0119a707529f414fb3f27863395ba55b",
            "bd885057c3d146bd8d806c2c2bdd473f",
            "89c41f5b01ab419cb553505907cc9e5b",
            "76e70a7d960d46d38caf423e0833be02"
          ]
        },
        "id": "0_UfVkf4ifjy",
        "outputId": "a7a2c7aa-2997-43bb-efa8-f750293d2a79"
      },
      "execution_count": null,
      "outputs": [
        {
          "output_type": "display_data",
          "data": {
            "text/plain": [
              "<IPython.core.display.HTML object>"
            ],
            "text/html": [
              "\n",
              "            <style>\n",
              "                .geemap-dark {\n",
              "                    --jp-widgets-color: white;\n",
              "                    --jp-widgets-label-color: white;\n",
              "                    --jp-ui-font-color1: white;\n",
              "                    --jp-layout-color2: #454545;\n",
              "                    background-color: #383838;\n",
              "                }\n",
              "\n",
              "                .geemap-dark .jupyter-button {\n",
              "                    --jp-layout-color3: #383838;\n",
              "                }\n",
              "\n",
              "                .geemap-colab {\n",
              "                    background-color: var(--colab-primary-surface-color, white);\n",
              "                }\n",
              "\n",
              "                .geemap-colab .jupyter-button {\n",
              "                    --jp-layout-color3: var(--colab-primary-surface-color, white);\n",
              "                }\n",
              "            </style>\n",
              "            "
            ]
          },
          "metadata": {}
        },
        {
          "output_type": "display_data",
          "data": {
            "text/plain": [
              "Map(center=[40, -100], controls=(ZoomControl(options=['position', 'zoom_in_text', 'zoom_in_title', 'zoom_out_t…"
            ],
            "application/vnd.jupyter.widget-view+json": {
              "version_major": 2,
              "version_minor": 0,
              "model_id": "7312d79b5c5d42b485f12fa10225f64c"
            }
          },
          "metadata": {
            "application/vnd.jupyter.widget-view+json": {
              "colab": {
                "custom_widget_manager": {
                  "url": "https://ssl.gstatic.com/colaboratory-static/widgets/colab-cdn-widget-manager/2b70e893a8ba7c0f/manager.min.js"
                }
              }
            }
          }
        }
      ]
    },
    {
      "cell_type": "markdown",
      "source": [
        "## Google Earth Engine Code Editor vs. Colab s GeeMap"
      ],
      "metadata": {
        "id": "FlnOGc8QqG68"
      }
    },
    {
      "cell_type": "markdown",
      "source": [
        "### Jednoduché vykreslení"
      ],
      "metadata": {
        "id": "FEjUEP8Fw2mb"
      }
    },
    {
      "cell_type": "markdown",
      "source": [
        "Javascript v GEE\n",
        "\n",
        "```\n",
        "var dataset = ee.ImageCollection('LANDSAT/LC08/C02/T1_TOA')\n",
        "  .filterDate('2023-01-01', '2023-12-31');\n",
        "\n",
        "var trueColor432 = dataset.select(['B4', 'B3', 'B2']);\n",
        "var trueColor432Vis = {\n",
        "  min: 0.0,\n",
        "  max: 0.4,\n",
        "};\n",
        "\n",
        "Map.setCenter(6.746, 46.529, 6);\n",
        "Map.addLayer(trueColor432, trueColor432Vis, 'True Color (432)');\n",
        "\n",
        "```\n",
        "Alternativa v Python s GEE balíčkem"
      ],
      "metadata": {
        "id": "iKrwdCtMnyOp"
      }
    },
    {
      "cell_type": "code",
      "source": [
        "Map6 = geemapCore.Map()\n",
        "dataset = ee.ImageCollection('LANDSAT/LC08/C02/T1_TOA').filterDate(\n",
        "    '2023-01-01', '2023-12-31'\n",
        ")\n",
        "true_color_432 = dataset.select(['B4', 'B3', 'B2'])\n",
        "true_color_432_vis = {\n",
        "    'min': 0.0,\n",
        "    'max': 0.4,\n",
        "}\n",
        "\n",
        "Map6.set_center(6.746, 46.529, 6)\n",
        "Map6.add_layer(true_color_432, true_color_432_vis, 'True Color (432)')\n",
        "Map6"
      ],
      "metadata": {
        "id": "S3r5uYTIgL10",
        "colab": {
          "base_uri": "https://localhost:8080/",
          "height": 621,
          "referenced_widgets": [
            "353ced2bab1445778d81e6092cb293ed",
            "993e91da362f4c0e8ed37d25fb36fca8",
            "d9c29a4aeac947b4b2483c03d1752f52",
            "9fdc55bd49124470a50edfbb82a3e9bc",
            "de8df9895cdf4ef3b064b61b0e20e527",
            "c605b32c126e40f5a27e63dde353de05",
            "6e6e5bd13d654c90bad8a3e9738c9b61",
            "cabbe13e59444adc998a13d55a974abd",
            "4ee285627bfe4140aeb052d4529b8dad",
            "c9c30d3f71634109b1c417ca6ce0c333",
            "f835c2ccdab6478288393c74ff0725c6",
            "ca0380009f994c629293286811034a32",
            "d7fd1cd1c66343e8910af2406bf4b766",
            "f7c474ee87be4586b958ec1f9cd180b1",
            "a53bb70b7b0540728852e386664a9f45",
            "6aa4e254cd754981ad4d978138f98bab",
            "1b5d5dcb9bfe45469a363d9f08369085",
            "c6888ee6649b4614b82793ad13beedd0"
          ]
        },
        "outputId": "77125b40-2694-4df0-e74a-3390b99199b0"
      },
      "execution_count": null,
      "outputs": [
        {
          "output_type": "display_data",
          "data": {
            "text/plain": [
              "<IPython.core.display.HTML object>"
            ],
            "text/html": [
              "\n",
              "            <style>\n",
              "                .geemap-dark {\n",
              "                    --jp-widgets-color: white;\n",
              "                    --jp-widgets-label-color: white;\n",
              "                    --jp-ui-font-color1: white;\n",
              "                    --jp-layout-color2: #454545;\n",
              "                    background-color: #383838;\n",
              "                }\n",
              "\n",
              "                .geemap-dark .jupyter-button {\n",
              "                    --jp-layout-color3: #383838;\n",
              "                }\n",
              "\n",
              "                .geemap-colab {\n",
              "                    background-color: var(--colab-primary-surface-color, white);\n",
              "                }\n",
              "\n",
              "                .geemap-colab .jupyter-button {\n",
              "                    --jp-layout-color3: var(--colab-primary-surface-color, white);\n",
              "                }\n",
              "            </style>\n",
              "            "
            ]
          },
          "metadata": {}
        },
        {
          "output_type": "display_data",
          "data": {
            "text/plain": [
              "Map(center=[46.529, 6.746], controls=(ZoomControl(options=['position', 'zoom_in_text', 'zoom_in_title', 'zoom_…"
            ],
            "application/vnd.jupyter.widget-view+json": {
              "version_major": 2,
              "version_minor": 0,
              "model_id": "353ced2bab1445778d81e6092cb293ed"
            }
          },
          "metadata": {
            "application/vnd.jupyter.widget-view+json": {
              "colab": {
                "custom_widget_manager": {
                  "url": "https://ssl.gstatic.com/colaboratory-static/widgets/colab-cdn-widget-manager/2b70e893a8ba7c0f/manager.min.js"
                }
              }
            }
          }
        }
      ]
    },
    {
      "cell_type": "markdown",
      "source": [
        "### Výpočet NDVI\n",
        "\n",
        "\n",
        "\n",
        "```\n",
        "var ndvi = ee.ImageCollection('LANDSAT/LC08/C02/T1_L2')\n",
        "  .filterDate('2011-05-01', '2021-09-15')\n",
        "  .median()\n",
        "  .normalizedDifference(['SR_B5','SR_B4'])\n",
        "  .clip(geometry);\n",
        "Map.addLayer(ndvi);\n",
        "\n",
        "```\n",
        "\n"
      ],
      "metadata": {
        "id": "J4DSf_Euq36U"
      }
    },
    {
      "cell_type": "code",
      "source": [
        "Map7 = geemapCore.Map(center=[11.9625, 48.4410], zoom=8)\n",
        "\n",
        "ndvi = (ee.ImageCollection('LANDSAT/LC08/C02/T1_L2')\n",
        "  .filterDate('2011-05-01', '2021-09-15')\n",
        "  .median()\n",
        "  .normalizedDifference(['SR_B5','SR_B4'])\n",
        "  #.clip(11.9625, 48.4410)\n",
        "  )\n",
        "\n",
        "Map7.setCenter(11.962, 48.441, 8)\n",
        "Map7.addLayer(ndvi)\n",
        "Map7"
      ],
      "metadata": {
        "colab": {
          "base_uri": "https://localhost:8080/",
          "height": 621,
          "referenced_widgets": [
            "e465ac7483eb4f708176e0ac987d9607",
            "649d80f14870421db7d39dfd0bbf6f2c",
            "ae4c9c9026b2495fb52cd0def7246048",
            "ff80c150d3f643ecace40e958906f0b5",
            "85c8ee0eb9124c23a6aea315051bae43",
            "cb91057241dc4e21a0475a7926b45aa7",
            "88039cc09f45404fbec889e96a620e6d",
            "a3176877bfb6402c81dc9869713a6ea9",
            "2e3cf1a24745496984789711523a79b2",
            "97e03fcbee8e46209b393ad2fd072330",
            "a81bdd62a31b4183bfe196428d613432",
            "e2ca9e9c81304679bb4e235afa50c860",
            "5a7871d3efef40aaa66d6d82ce9f9af8",
            "016f628d516e4b8e8d63fdc17dd3b262",
            "e22bb51367f34056ac8faf1afde29a8a",
            "ed44ed6953c543e4ac27a78ec72e59d9",
            "de0c4fa7971a4bb09f18022abfa12315",
            "85447f3d370948d1b7392a50e6f44366"
          ]
        },
        "id": "bqnltz79q63g",
        "outputId": "56bbcddf-15f2-40e2-f2a9-e20f780e86e0"
      },
      "execution_count": null,
      "outputs": [
        {
          "output_type": "display_data",
          "data": {
            "text/plain": [
              "<IPython.core.display.HTML object>"
            ],
            "text/html": [
              "\n",
              "            <style>\n",
              "                .geemap-dark {\n",
              "                    --jp-widgets-color: white;\n",
              "                    --jp-widgets-label-color: white;\n",
              "                    --jp-ui-font-color1: white;\n",
              "                    --jp-layout-color2: #454545;\n",
              "                    background-color: #383838;\n",
              "                }\n",
              "\n",
              "                .geemap-dark .jupyter-button {\n",
              "                    --jp-layout-color3: #383838;\n",
              "                }\n",
              "\n",
              "                .geemap-colab {\n",
              "                    background-color: var(--colab-primary-surface-color, white);\n",
              "                }\n",
              "\n",
              "                .geemap-colab .jupyter-button {\n",
              "                    --jp-layout-color3: var(--colab-primary-surface-color, white);\n",
              "                }\n",
              "            </style>\n",
              "            "
            ]
          },
          "metadata": {}
        },
        {
          "output_type": "display_data",
          "data": {
            "text/plain": [
              "Map(center=[48.441, 11.962], controls=(ZoomControl(options=['position', 'zoom_in_text', 'zoom_in_title', 'zoom…"
            ],
            "application/vnd.jupyter.widget-view+json": {
              "version_major": 2,
              "version_minor": 0,
              "model_id": "e465ac7483eb4f708176e0ac987d9607"
            }
          },
          "metadata": {
            "application/vnd.jupyter.widget-view+json": {
              "colab": {
                "custom_widget_manager": {
                  "url": "https://ssl.gstatic.com/colaboratory-static/widgets/colab-cdn-widget-manager/2b70e893a8ba7c0f/manager.min.js"
                }
              }
            }
          }
        }
      ]
    },
    {
      "cell_type": "markdown",
      "source": [
        "###Spektral\n",
        "\n",
        "\n",
        "```\n",
        "// Load a Landsat 5 image and select the bands we want to unmix.\n",
        "var bands = ['B1', 'B2', 'B3', 'B4', 'B5', 'B6', 'B7'];\n",
        "var image = ee.Image('LANDSAT/LT05/C01/T1/LT05_044034_20080214')\n",
        "  .select(bands);\n",
        "Map.setCenter(-122.1899, 37.5010, 10); // San Francisco Bay\n",
        "Map.addLayer(image, {bands: ['B4', 'B3', 'B2'], min: 0, max: 128}, 'image');\n",
        "\n",
        "// Define spectral endmembers.\n",
        "var urban = [88, 42, 48, 38, 86, 115, 59];\n",
        "var veg = [50, 21, 20, 35, 50, 110, 23];\n",
        "var water = [51, 20, 14, 9, 7, 116, 4];\n",
        "var land = [69, 38, 50, 52, 110, 115, 66]\n",
        "\n",
        "// Unmix the image.\n",
        "var fractions = image.unmix([urban, veg, water, land]);\n",
        "Map.addLayer(fractions, {}, 'unmixed');\n",
        "\n",
        "```\n",
        "\n"
      ],
      "metadata": {
        "id": "gREaqa9Sub1J"
      }
    },
    {
      "cell_type": "code",
      "source": [
        "Map8 = geemapCore.Map(center=[-122.1899, 37.5010], zoom=10)\n",
        "bands = ['B1', 'B2', 'B3', 'B4', 'B5', 'B6', 'B7']\n",
        "image = (ee.Image('LANDSAT/LT05/C01/T1/LT05_044034_20080214')\n",
        "  .select(bands))\n",
        "Map8.setCenter(-122.1899, 37.5010); # San Francisco Bay\n",
        "vis_params = {'bands': ['B4', 'B3', 'B2'], 'min': 0, 'max': 128}\n",
        "Map8.addLayer(image, vis_params, 'image')\n",
        "Map8\n",
        "\n",
        "\n",
        "urban = [88, 42, 48, 38, 86, 115, 59]\n",
        "veg = [50, 21, 20, 35, 50, 110, 23]\n",
        "water = [51, 20, 14, 9, 7, 116, 4]\n",
        "land = [69, 38, 50, 52, 110, 115, 66]\n",
        "\n",
        "fractions = image.unmix([urban, veg, water, land])\n",
        "Map8.addLayer(fractions, {}, 'unmixed')\n",
        "Map8\n"
      ],
      "metadata": {
        "colab": {
          "base_uri": "https://localhost:8080/",
          "height": 621,
          "referenced_widgets": [
            "1c790104890f428490a73aa0350ed546",
            "2aa91d7fdcc44d3e8d61df0668e43592",
            "4834147e4049482e95bf82d8af8bbf1c",
            "b36142ba0df148ac9b7ad2b9a4ec4c40",
            "e377912ced394996a5464e05580a3461",
            "687f4dbd096d43c09403306288edc1a0",
            "c0216d4f6c064a138ebcc2f883ba2766",
            "5719e568f36441658fed15b130d1ee8f",
            "5e41d9540c4b4bd38ff8fb6e0a7fc668",
            "98a5387da6d04b6bb6a9da362b911bf2",
            "53e0c06aba5b4f38af1708d85f77aaf3",
            "c94d1e2b0eaa458a8d385b47cf969753",
            "5325f6d6c2b8492e88120af92896e9b2",
            "a5b51df2ae9741739916733db36df256",
            "8be46cc6aef94fafa65123e562a0367d",
            "b4ba3ae424664cf1b042f54948be2123",
            "71a87e69b1ef4a67a70a524cba1aa71f",
            "6d2d0cf4f0e14517861f8cdf58339506",
            "0e0cf074c36b46b6bebc3d39c30f8dfc"
          ]
        },
        "id": "Ylwwpc9ZukRI",
        "outputId": "6d6ac86f-c2d3-4a85-b82e-973fd4ff7195"
      },
      "execution_count": null,
      "outputs": [
        {
          "output_type": "display_data",
          "data": {
            "text/plain": [
              "<IPython.core.display.HTML object>"
            ],
            "text/html": [
              "\n",
              "            <style>\n",
              "                .geemap-dark {\n",
              "                    --jp-widgets-color: white;\n",
              "                    --jp-widgets-label-color: white;\n",
              "                    --jp-ui-font-color1: white;\n",
              "                    --jp-layout-color2: #454545;\n",
              "                    background-color: #383838;\n",
              "                }\n",
              "\n",
              "                .geemap-dark .jupyter-button {\n",
              "                    --jp-layout-color3: #383838;\n",
              "                }\n",
              "\n",
              "                .geemap-colab {\n",
              "                    background-color: var(--colab-primary-surface-color, white);\n",
              "                }\n",
              "\n",
              "                .geemap-colab .jupyter-button {\n",
              "                    --jp-layout-color3: var(--colab-primary-surface-color, white);\n",
              "                }\n",
              "            </style>\n",
              "            "
            ]
          },
          "metadata": {}
        },
        {
          "output_type": "display_data",
          "data": {
            "text/plain": [
              "Map(center=[37.501, -122.1899], controls=(ZoomControl(options=['position', 'zoom_in_text', 'zoom_in_title', 'z…"
            ],
            "application/vnd.jupyter.widget-view+json": {
              "version_major": 2,
              "version_minor": 0,
              "model_id": "1c790104890f428490a73aa0350ed546"
            }
          },
          "metadata": {
            "application/vnd.jupyter.widget-view+json": {
              "colab": {
                "custom_widget_manager": {
                  "url": "https://ssl.gstatic.com/colaboratory-static/widgets/colab-cdn-widget-manager/2b70e893a8ba7c0f/manager.min.js"
                }
              }
            }
          }
        }
      ]
    }
  ]
}